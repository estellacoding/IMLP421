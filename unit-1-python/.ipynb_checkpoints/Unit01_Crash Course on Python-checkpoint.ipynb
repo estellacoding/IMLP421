{
 "cells": [
  {
   "cell_type": "markdown",
   "metadata": {},
   "source": [
    "# Python programming \n",
    "## Crash Course on Python Coding Practice\n",
    "\n",
    "No matter the level of mastery you hope to get to in Python,<br> \n",
    "you'll need these fundamentals in place before you jump into any project.<br><br>\n",
    "\n",
    "You need to know how to:\n",
    "\n",
    "- declare variables\n",
    "- collect user input\n",
    "- store information\n",
    "- repeat an action through loops\n",
    "- write functions to repeat blocks of code\n"
   ]
  },
  {
   "cell_type": "markdown",
   "metadata": {},
   "source": [
    "### 01 - 奇偶數辨別（Odd or even）\n",
    "#### 當使用者輸入一個的數字，它能夠辨別奇偶，並輸出檢驗結果給使用者。\n",
    "\n",
    "> 題目：輸入一數字判斷奇數或偶數<br>\n",
    "輸入(Input): 一個數字 <br>\n",
    "輸出(Output):奇數或偶數\n",
    "\n",
    "* 進階: 可以限制輸入一個介於一定範圍（例如 1 到 1000）的數字"
   ]
  },
  {
   "cell_type": "code",
   "execution_count": 1,
   "metadata": {},
   "outputs": [
    {
     "name": "stdin",
     "output_type": "stream",
     "text": [
      "請輸入一個數字:  1000\n"
     ]
    },
    {
     "name": "stdout",
     "output_type": "stream",
     "text": [
      "你輸入的數字為: 1000\n",
      "你輸入的數字是偶數\n"
     ]
    }
   ],
   "source": [
    "# 使用者輸入一個數字\n",
    "user_input = int(input(\"請輸入一個數字: \"))\n",
    "print(f'你輸入的數字為: {user_input}')\n",
    "\n",
    "# 限制輸入1~1000範圍\n",
    "if user_input < 1 or user_input > 1000:\n",
    "    print(\"你輸入的數字超出範圍了\")\n",
    "# 如果可以被2整除則為偶數\n",
    "else:\n",
    "    if user_input % 2 == 0:\n",
    "        print(\"你輸入的數字是偶數\")\n",
    "    else:\n",
    "        print(\"你輸入的數字是奇數\")\n"
   ]
  },
  {
   "cell_type": "markdown",
   "metadata": {},
   "source": [
    "### 02 - 填字遊戲（Mad libs game）\n",
    "#### 使用者輸入任何字，它可以是名詞、形容詞、動詞、代名詞等。程式得到文字後，可自行排列，組成成一個模板故事。\n",
    "\n",
    "> 題目：輸入一數字判斷奇數或偶數<br>\n",
    "輸入(Input): 一連串依據說明輸入對應文字 <br>\n",
    "輸出(Output): 模板故事\n",
    "\n",
    "* 進階: 可以讓程式重複執行"
   ]
  },
  {
   "cell_type": "code",
   "execution_count": 2,
   "metadata": {},
   "outputs": [
    {
     "name": "stdin",
     "output_type": "stream",
     "text": [
      "請輸入一個人名:  Joe\n",
      "請輸入一件事:  唱歌\n",
      "輸入一個時間(例如: 一天的時間、季節等):  早上\n",
      "輸入一個地點:  戶外\n",
      "請輸入一個物品:  麥克風\n",
      "請輸入發生的意外事件:  下雨\n"
     ]
    },
    {
     "name": "stdout",
     "output_type": "stream",
     "text": [
      "\n",
      "為你創作了一個故事:\n",
      "今天是一個特別的日子，Joe來到了戶外。\n",
      "Joe拿著麥克風，正專心致志地唱歌，突然間，下雨。\n",
      "這一瞬間，彷彿時間靜止了，所有在場的人都屏住了呼吸。\n",
      "隨後，驚訝的表情映在每個人的臉上，這件事情迅速成為了大家談論的焦點。\n",
      "整個戶外都因這個事件而沸騰了起來，成為了一天中最令人難忘的回憶。\n"
     ]
    },
    {
     "name": "stdin",
     "output_type": "stream",
     "text": [
      "\n",
      "想再玩一次嗎？(y/n):  n\n"
     ]
    },
    {
     "name": "stdout",
     "output_type": "stream",
     "text": [
      "故事結束!88!\n"
     ]
    }
   ],
   "source": [
    "while True:\n",
    "    # 提示使用者輸入的內容\n",
    "    person_name = input(\"請輸入一個人名: \")\n",
    "    matter = input(\"請輸入一件事: \")\n",
    "    time = input(\"輸入一個時間(例如: 一天的時間、季節等): \")\n",
    "    place = input(\"輸入一個地點: \")\n",
    "    item = input(\"請輸入一個物品: \")\n",
    "    action = input(\"請輸入發生的意外事件: \")\n",
    "\n",
    "    # 模板故事\n",
    "    story = (\n",
    "        f\"今天是一個特別的日子，{person_name}來到了{place}。\\n\"\n",
    "        f\"{person_name}拿著{item}，正專心致志地{matter}，突然間，{action}。\\n\"\n",
    "        f\"這一瞬間，彷彿時間靜止了，所有在場的人都屏住了呼吸。\\n\"\n",
    "        f\"隨後，驚訝的表情映在每個人的臉上，這件事情迅速成為了大家談論的焦點。\\n\"\n",
    "        f\"整個{place}都因這個事件而沸騰了起來，成為了一天中最令人難忘的回憶。\"\n",
    "    )\n",
    "\n",
    "    # 輸出故事\n",
    "    print(\"\\n為你創作了一個故事:\")\n",
    "    print(story)\n",
    "\n",
    "    # 確認使用者是否想再玩一次\n",
    "    play_again = input(\"\\n想再玩一次嗎？(y/n): \")\n",
    "    if play_again.lower() != \"y\":\n",
    "        print(\"故事結束!88!\")\n",
    "        break"
   ]
  },
  {
   "cell_type": "markdown",
   "metadata": {},
   "source": [
    "### 03 -  猜數字（Guess the number）\n",
    "#### 請使用者猜一個介於範圍（例如 1 到 100）之間的數字，\n",
    "#### 若使用者猜錯，就詢問他們想繼續玩還是退出；若使用者猜對，就顯示祝賀訊息，\n",
    "#### 並統計使用者的嘗試次數。如果使用者輸入的數字超出設定範圍，就顯示錯誤提示。\n",
    "\n",
    "![](data\\guess.png)\n"
   ]
  },
  {
   "cell_type": "code",
   "execution_count": 6,
   "metadata": {},
   "outputs": [
    {
     "name": "stdin",
     "output_type": "stream",
     "text": [
      "設定猜數字範圍，請輸入第1個數字:  1\n",
      "設定猜數字範圍，請輸入第2個數字:  10\n"
     ]
    },
    {
     "name": "stdout",
     "output_type": "stream",
     "text": [
      "====== 猜數字遊戲 ======\n"
     ]
    },
    {
     "name": "stdin",
     "output_type": "stream",
     "text": [
      "猜數字範圍 1 < ? < 10 :  2\n"
     ]
    },
    {
     "name": "stdout",
     "output_type": "stream",
     "text": [
      "再大一點!! 輸入一個介於 2 到 10 之間的數字。您猜了 1 次\n"
     ]
    },
    {
     "name": "stdin",
     "output_type": "stream",
     "text": [
      "你還要繼續猜嗎? (y/n):  y\n",
      "猜數字範圍 2 < ? < 10 :  9\n"
     ]
    },
    {
     "name": "stdout",
     "output_type": "stream",
     "text": [
      "再小一點!! 輸入一個介於 2 到 9 之間的數字。您猜了 2 次\n"
     ]
    },
    {
     "name": "stdin",
     "output_type": "stream",
     "text": [
      "你還要繼續猜嗎? (y/n):  y\n",
      "猜數字範圍 2 < ? < 9 :  3\n"
     ]
    },
    {
     "name": "stdout",
     "output_type": "stream",
     "text": [
      "再大一點!! 輸入一個介於 3 到 9 之間的數字。您猜了 3 次\n"
     ]
    },
    {
     "name": "stdin",
     "output_type": "stream",
     "text": [
      "你還要繼續猜嗎? (y/n):  y\n",
      "猜數字範圍 3 < ? < 9 :  8\n"
     ]
    },
    {
     "name": "stdout",
     "output_type": "stream",
     "text": [
      "再小一點!! 輸入一個介於 3 到 8 之間的數字。您猜了 4 次\n"
     ]
    },
    {
     "name": "stdin",
     "output_type": "stream",
     "text": [
      "你還要繼續猜嗎? (y/n):  y\n",
      "猜數字範圍 3 < ? < 8 :  7\n"
     ]
    },
    {
     "name": "stdout",
     "output_type": "stream",
     "text": [
      "賓果! 猜對了，答案是 7。你一共嘗試了 5 次。\n",
      "你的猜測數字記錄: [2, 9, 3, 8, 7]\n"
     ]
    }
   ],
   "source": [
    "import random\n",
    "\n",
    "# 記錄使用者嘗試次數及數字\n",
    "attempts = 0\n",
    "attempts_list = []\n",
    "\n",
    "# 使用者設定猜數字範圍\n",
    "# 讓使用者輸入猜數字範圍的下限\n",
    "lower_num = int(input(\"設定猜數字範圍，請輸入第1個數字: \"))\n",
    "# 讓使用者輸入猜數字範圍的上限\n",
    "upper_num = int(input(\"設定猜數字範圍，請輸入第2個數字: \"))\n",
    "# 如果上限不大於下限，請使用者重新輸入上限\n",
    "while upper_num <= lower_num:\n",
    "    upper_num = int(input(\"請重新輸入第2個數字，要大於第1個數字: \"))\n",
    "\n",
    "# 生成一個介於下限和上限之間的隨機整數作為答案\n",
    "answer = random.randint(lower_num, upper_num)\n",
    "\n",
    "print(\"====== 猜數字遊戲 ======\")\n",
    "\n",
    "while True:\n",
    "    try:\n",
    "        # 提示使用者輸入一個介於下限和上限之間的數字\n",
    "        user_input = int(input(f'猜數字範圍 {lower_num} < ? < {upper_num} : '))\n",
    "        # 使用者嘗試次數+1並加入記錄清單\n",
    "        attempts += 1\n",
    "        attempts_list.append(user_input)\n",
    "        \n",
    "        # 如果輸入數字不在範圍內，提示輸入範圍\n",
    "        if user_input < lower_num or user_input > upper_num:\n",
    "            print(f\"請輸入一個介於 {lower_num} 到 {upper_num} 之間的數字。\")\n",
    "        # 猜對時，顯示成功訊息和記錄清單\n",
    "        elif user_input == answer:\n",
    "            print(f'賓果! 猜對了，答案是 {answer}。你一共嘗試了 {attempts} 次。')\n",
    "            print(f'你的猜測數字記錄: {attempts_list}')\n",
    "            break\n",
    "        # 如果使用者小於答案\n",
    "        elif user_input < answer:\n",
    "            # 更新下限為當前猜的數字\n",
    "            lower_num = user_input\n",
    "            print(f'再大一點!! 輸入一個介於 {lower_num} 到 {upper_num} 之間的數字。您猜了 {attempts} 次')\n",
    "        else:\n",
    "            # 更新上限為當前猜的數字\n",
    "            upper_num = user_input\n",
    "            print(f'再小一點!! 輸入一個介於 {lower_num} 到 {upper_num} 之間的數字。您猜了 {attempts} 次')\n",
    "        \n",
    "        # 使用者不玩，則顯示訊息和記錄清單\n",
    "        play_again = input('你還要繼續猜嗎? (y/n): ')\n",
    "        if play_again.lower() != 'y':\n",
    "            print(f\"遊戲結束! 答案是 {answer}。你一共嘗試了 {attempts} 次。\")\n",
    "            print(f'你的猜測數字記錄: {attempts_list}')\n",
    "            break\n",
    "    except ValueError:\n",
    "        # 輸入非數字的錯誤，提示使用者輸入有效數字\n",
    "        print(\"請輸入一個有效的數字。\")\n"
   ]
  },
  {
   "cell_type": "markdown",
   "metadata": {},
   "source": [
    "### 04 - 計算字數（Word count）\n",
    "#### 使用者輸入一段文字或讀取一檔案，程式統計字數。\n",
    "\n",
    "> 輸入(Input):我要成為寫程式的專家 <br>\n",
    "輸出(Output):你用了 10 個文字述說內心的想法\n",
    "\n",
    "#### 在特定的文章字串中搜尋輸入的特定字，請使用者輸入欲搜尋的文字，印出總共有幾個。<br>\n",
    ">輸入(Input):天<br>\n",
    "輸出(Output): 9\n",
    "\n",
    "* 進階:計算文章中去除標點符號後的字數，找出文章中出現最多的字與次數"
   ]
  },
  {
   "cell_type": "code",
   "execution_count": 7,
   "metadata": {},
   "outputs": [
    {
     "name": "stdin",
     "output_type": "stream",
     "text": [
      " 我要成為寫程式的專家\n"
     ]
    },
    {
     "name": "stdout",
     "output_type": "stream",
     "text": [
      "你用了 10 個文字述說內心的想法\n"
     ]
    }
   ],
   "source": [
    "# 統計使用者輸入文字字數\n",
    "word = input()\n",
    "print(\"你用了 %d 個文字述說內心的想法\"%(len(word)))"
   ]
  },
  {
   "cell_type": "code",
   "execution_count": 8,
   "metadata": {},
   "outputs": [
    {
     "name": "stdout",
     "output_type": "stream",
     "text": [
      "------------------------------------------\n"
     ]
    },
    {
     "name": "stdin",
     "output_type": "stream",
     "text": [
      "請輸入一個字，將會計算該字在此文章出現的次數： 天\n"
     ]
    },
    {
     "name": "stdout",
     "output_type": "stream",
     "text": [
      "你輸入的「天」在這篇文章中出現了 9 次。\n",
      "------------------------------------------\n"
     ]
    }
   ],
   "source": [
    "s = '''漢皇重色思傾國，御宇多年求不得。\n",
    "\n",
    "楊家有女初長成，養在深閏人未識。\n",
    "\n",
    "天生麗質難自棄，一朝選在君王側。\n",
    "\n",
    "回眸一笑百媚生，六宮粉黛無顏色。\n",
    "\n",
    "春寒賜浴華清池，溫泉水滑洗凝脂；\n",
    "\n",
    "侍兒扶起嬌無力，始是新承恩澤時。\n",
    "\n",
    "雲鬢花顏金步搖，芙蓉帳暖度春宵；\n",
    "\n",
    "春宵苦短日高起，從此君王不早朝。\n",
    "\n",
    "承歡侍宴無閑暇，春從春遊夜專夜。\n",
    "\n",
    "後宮佳麗三千人，三千寵愛在一身。\n",
    "\n",
    "金屋妝成嬌侍夜，玉樓宴罷醉和春。\n",
    "\n",
    "姊妹弟兄皆列士，可憐光彩生門戶。\n",
    "\n",
    "遂令天下父母心，不重生男重生女。\n",
    "\n",
    "驪宮高處入青雲，仙樂風飄處處聞。\n",
    "\n",
    "緩歌慢舞凝絲竹，盡日君王看不足。\n",
    "\n",
    "漁陽鼙鼓動地來，驚破霓裳羽衣曲。\n",
    "\n",
    "九重城闕煙塵生，千乘萬騎西南行。\n",
    "\n",
    "翠華搖搖行復止，西出都門百餘里；\n",
    "\n",
    "六軍不發無奈何？宛轉蛾眉馬前死。\n",
    "\n",
    "花鈿委地無人收，翠翹金雀玉搔頭。\n",
    "\n",
    "君王掩面救不得，回看血淚相和流。\n",
    "\n",
    "黃埃散漫風蕭索，雲棧縈紆登劍閣。\n",
    "\n",
    "峨嵋山下少人行，旌旗無光日色薄。\n",
    "\n",
    "蜀江水碧蜀山青，聖主朝朝暮暮情。\n",
    "\n",
    "行宮見月傷心色，夜雨聞鈴腸斷聲。\n",
    "\n",
    "天旋地轉迴龍馭，到此躊躇不能去。\n",
    "\n",
    "馬嵬坡下泥土中，不見玉顏空死處。\n",
    "\n",
    "君臣相顧盡霑衣，東望都門信馬歸。\n",
    "\n",
    "歸來池苑皆依舊，太液芙蓉未央柳；\n",
    "\n",
    "芙蓉如面柳如眉，對此如何不淚垂？\n",
    "\n",
    "春風桃李花開日，秋雨梧桐葉落時。\n",
    "\n",
    "西宮南內多秋草，落葉滿階紅不掃。\n",
    "\n",
    "梨園子弟白髮新，椒房阿監青娥老。\n",
    "\n",
    "夕殿螢飛思悄然，孤燈挑盡未成眠。\n",
    "\n",
    "遲遲鐘鼓初長夜，耿耿星河欲曙天。\n",
    "\n",
    "鴛鴦瓦冷霜華重，翡翠衾寒誰與共？\n",
    "\n",
    "悠悠生死別經年，魂魄不曾來入夢。\n",
    "\n",
    "臨邛道士鴻都客，能以精誠致魂魄；\n",
    "\n",
    "為感君王輾轉思，遂教方士殷勤覓。\n",
    "\n",
    "排空馭氣奔如電，升天入地求之遍；\n",
    "\n",
    "上窮碧落下黃泉，兩處茫茫皆不見。\n",
    "\n",
    "忽聞海上有仙山，山在虛無縹緲間。\n",
    "\n",
    "樓閣玲瓏五雲起，其中綽約多仙子。\n",
    "\n",
    "中有一人字太真，雪膚花貌參差是。\n",
    "\n",
    "金闕西廂叩玉扃，轉教小玉報雙成。\n",
    "\n",
    "聞道漢家天子使，九華帳裡夢魂驚；\n",
    "\n",
    "攬衣推枕起徘徊，珠箔銀屏迤邐開。\n",
    "\n",
    "雲鬢半偏新睡覺，花冠不整下堂來。\n",
    "\n",
    "風吹仙袂飄飄舉，猶似霓裳羽衣舞。\n",
    "\n",
    "玉容寂寞淚闌干，梨花一枝春帶雨。\n",
    "\n",
    "含情凝睇謝君王，一別音容兩渺茫。\n",
    "\n",
    "昭陽殿裡恩愛絕，蓬萊宮中日月長。\n",
    "\n",
    "回頭下望人寰處，不見長安見塵霧。\n",
    "\n",
    "唯將舊物表深情，鈿合金釵寄將去。\n",
    "\n",
    "釵留一股合一扇，釵擘黃金合分鈿。\n",
    "\n",
    "但教心似金鈿堅，天上人間會相見。\n",
    "\n",
    "臨別殷勤重寄詞，詞中有誓兩心知，\n",
    "\n",
    "七月七日長生殿，夜半無人私語時：「\n",
    "\n",
    "在天願作比翼鳥，在地願為連理枝。」\n",
    "\n",
    "天長地久有時盡，此恨綿綿無絕期。\n",
    "'''\n",
    "\n",
    "print (\"------------------------------------------\")\n",
    "# 計算使用者輸入的一個文字，該文字在文章出現次數\n",
    "user_input = input('請輸入一個字，將會計算該字在此文章出現的次數：')\n",
    "count_word = s.count(user_input)\n",
    "print(f'你輸入的「{user_input}」在這篇文章中出現了 {count_word} 次。')\n",
    "print (\"------------------------------------------\")"
   ]
  },
  {
   "cell_type": "code",
   "execution_count": 9,
   "metadata": {},
   "outputs": [
    {
     "name": "stdout",
     "output_type": "stream",
     "text": [
      "------------------------------------------\n",
      "文章總字數: 840\n",
      "出現最多次的字: 不\n",
      "出現最多次的字的次數: 14\n",
      "------------------------------------------\n"
     ]
    }
   ],
   "source": [
    "import re\n",
    "from collections import Counter\n",
    "\n",
    "# 去除標點符號\n",
    "s = re.sub(r'[。，\\n；：？「」]', '', s)\n",
    "# 計算每個字出現的次數\n",
    "char_count = Counter(s)\n",
    "# 找出出現最多次的字及其出現次數\n",
    "most_common_char, most_common_count = char_count.most_common(1)[0]\n",
    "\n",
    "print (\"------------------------------------------\")\n",
    "# print(char_count.most_common(1))\n",
    "# print(char_count.most_common(1)[0])\n",
    "print('文章總字數:',len(s))\n",
    "print(f'出現最多次的字: {most_common_char}')\n",
    "print(f'出現最多次的字的次數: {most_common_count}')\n",
    "print (\"------------------------------------------\")"
   ]
  },
  {
   "cell_type": "code",
   "execution_count": 10,
   "metadata": {},
   "outputs": [
    {
     "name": "stdout",
     "output_type": "stream",
     "text": [
      "------------------------------------------\n",
      "文章總字數: 840\n",
      "出現最多次的字: 不\n",
      "出現最多次的字的次數: 14\n",
      "------------------------------------------\n"
     ]
    }
   ],
   "source": [
    "import re\n",
    "\n",
    "# 去除標點符號\n",
    "s = re.sub(r'[。，\\n；：？「」]', '', s)\n",
    "\n",
    "# 初始化目前已知出現最多次的字及其次數\n",
    "max_char = ''\n",
    "max_char_count = 0\n",
    "\n",
    "for astr in s:\n",
    "    act=s.count(astr)\n",
    "    # 如果 現在這個字出現的次數(act) 大於 目前已知出現最多次字的次數\n",
    "    if act > max_char_count:\n",
    "        # 就讓 現在這個字出現的次數 成為 目前已知出現最多次的字的次數\n",
    "        max_char_count = act\n",
    "        # 還要記錄 現在這個字(astr) 到 目前已知出現最多次的字\n",
    "        max_char = astr\n",
    "else:\n",
    "    print (\"------------------------------------------\")\n",
    "    print('文章總字數:',len(s))\n",
    "    print(f'出現最多次的字: {max_char}')\n",
    "    print(f'出現最多次的字的次數: {max_char_count}')\n",
    "    print (\"------------------------------------------\")"
   ]
  },
  {
   "cell_type": "markdown",
   "metadata": {},
   "source": [
    "### 05 - Email 域名判斷器（Email slicer）\n",
    "#### 請用戶輸入 Email 地址，然後判斷它是自定義域名還是熱門域名。\n",
    "\n",
    "> 題目：<br>\n",
    "輸入(Input):shelly200318@hotmail.com.tw  <br>\n",
    "輸出(Output):Your username is 'shelly200318' and your domain name is 'hotmail.com.tw' <br>\n",
    "\n",
    "\n",
    "* 進階：把常用的信箱存成字典，加入判斷是否為\n",
    ">輸入(Input):mary.jane@gmail.com  <br>\n",
    "輸出(Output):這是註冊在 Google 之下的 Email 地址 <br>\n",
    "輸入(Input):matt.pan@myfantasy.com  <br>\n",
    "輸出(Output):這是在 myfantasy 之下自定義域\n",
    "\n"
   ]
  },
  {
   "cell_type": "code",
   "execution_count": 11,
   "metadata": {},
   "outputs": [
    {
     "name": "stdin",
     "output_type": "stream",
     "text": [
      "What is your email address?:  stella@ntut.org.tw\n"
     ]
    },
    {
     "name": "stdout",
     "output_type": "stream",
     "text": [
      "Your username is 'stella' and your domain name is 'ntut.org.tw'\n",
      "這是在 ntut.org.tw 之下自定義域\n"
     ]
    }
   ],
   "source": [
    "# 用戶輸入Email，然後判斷它是自定義域名還是熱門域名\n",
    "email = input(\"What is your email address?: \").strip()\n",
    "\n",
    "# Slice out the user name\n",
    "user_name = email.split('@')[0]\n",
    "# Slice the domain name\n",
    "domain_name = email.split('@')[1]\n",
    "\n",
    "# Format message\n",
    "output = \"Your username is '{}' and your domain name is '{}'\".format(user_name,domain_name)\n",
    "# Display output message\n",
    "print(output)\n",
    "\n",
    "domain = {'gmail.com':'Google','yahoo.com.tw':'Yahoo','ntu.edu.tw':'臺大','hotmail.com.tw':'Hotmail','hotmail.com':'Hotmail'}\n",
    "if domain_name in domain:\n",
    "    output = \"這是註冊在 {} 之下的 Email 地址'\".format(domain_name)\n",
    "else:\n",
    "    output = \"這是在 {} 之下自定義域\".format(domain_name)\n",
    "                                    \n",
    "print(output)"
   ]
  },
  {
   "cell_type": "markdown",
   "metadata": {},
   "source": [
    "### 06 - 及格名單（Pass list）\n",
    "#### 請使用集合功能來完成各科級名單的判斷\n",
    "```\n",
    "米花市帝丹小學一年级B班正舉辦期中考試\n",
    "數學及格的有：柯南、灰原、步美、美環、光彦\n",
    "英文及格的有：柯南、灰原、丸尾、野口、步美\n",
    "以上已列出全班所有人\n",
    "```\n",
    "\n",
    ">請分別列出<br>\n",
    "數學及格但英文不及格的同學名單<br>\n",
    "數學不及格但英文及格的同學名單<br>\n",
    "兩者皆及格名單<br>\n",
    "* Hint:差集(減法)、交集\n"
   ]
  },
  {
   "cell_type": "code",
   "execution_count": 12,
   "metadata": {},
   "outputs": [
    {
     "name": "stdout",
     "output_type": "stream",
     "text": [
      "數學及格但英文不及格的同學名單: {'光彦', '美環'}\n",
      "數學不及格但英文及格的同學名單: {'野口', '丸尾'}\n",
      "兩者皆及格名單: {'柯南', '步美', '灰原'}\n"
     ]
    }
   ],
   "source": [
    "# 數學及英文及格名單\n",
    "math_pass = {'柯南', '灰原', '步美', '美環', '光彦'}\n",
    "english_pass = {'柯南', '灰原', '丸尾', '野口', '步美'}\n",
    "\n",
    "# 數學及格但英文不及格的同學名單\n",
    "# 移除math_pass中所有在english_pass中出現的人\n",
    "math_not_english = math_pass - english_pass\n",
    "\n",
    "# 數學不及格但英文及格的同學名單\n",
    "# 移除english_pass中所有在math_pass中出現的人\n",
    "english_not_math = english_pass - math_pass\n",
    "\n",
    "# 兩者皆及格名單\n",
    "# 取得math_pass和english_pass的交集\n",
    "both_pass = math_pass & english_pass\n",
    "\n",
    "# 顯示結果\n",
    "print(f'數學及格但英文不及格的同學名單: {math_not_english}')\n",
    "print(f'數學不及格但英文及格的同學名單: {english_not_math}')\n",
    "print(f'兩者皆及格名單: {both_pass}')"
   ]
  },
  {
   "cell_type": "code",
   "execution_count": 13,
   "metadata": {},
   "outputs": [
    {
     "name": "stdout",
     "output_type": "stream",
     "text": [
      "數學及格但英文不及格的同學名單: ['光彦', '美環']\n",
      "數學不及格但英文及格的同學名單: ['丸尾', '野口']\n",
      "兩者皆及格名單: ['柯南', '步美', '灰原']\n"
     ]
    }
   ],
   "source": [
    "m={'柯南','灰原','步美','美環','光彦'}\n",
    "e={'柯南','灰原','丸尾','野口','步美'}\n",
    "# 數學及英文及格名單\n",
    "math_pass = {'柯南', '灰原', '步美', '美環', '光彦'}\n",
    "english_pass = {'柯南', '灰原', '丸尾', '野口', '步美'}\n",
    "\n",
    "# 兩者皆及格名單\n",
    "both_pass = math_pass.intersection(english_pass)\n",
    "\n",
    "# 數學及格但英文不及格的同學名單\n",
    "# math_pass但不在both_pass中的同學，這表示這些同學「數學及格但英文不及格」\n",
    "math_not_english = math_pass.difference(both_pass)\n",
    "\n",
    "# 數學不及格但英文及格的同學名單\n",
    "# english_pass但不在both_pass中的同學，這表示這些同學「數學不及格但英文及格」\n",
    "english_not_math = english_pass.difference(both_pass)\n",
    "\n",
    "# 將各名單轉換為列表以便排序\n",
    "both_pass_list = list(both_pass)\n",
    "math_not_english_list = list(math_not_english)\n",
    "english_not_math_list=list(english_not_math)\n",
    "# 對各列表進行排序\n",
    "both_pass_list.sort()\n",
    "math_not_english_list.sort()\n",
    "english_not_math_list.sort()\n",
    "\n",
    "# 顯示結果\n",
    "print(f'數學及格但英文不及格的同學名單: {math_not_english_list}')\n",
    "print(f'數學不及格但英文及格的同學名單: {english_not_math_list}')\n",
    "print(f'兩者皆及格名單: {both_pass_list}')\n"
   ]
  },
  {
   "cell_type": "markdown",
   "metadata": {},
   "source": [
    "### 07 - 查詢路徑下所有檔案\n",
    "#### 請使用者輸入路徑，自動抓取路徑下所有檔案名稱\n",
    "\n",
    ">輸入(Input):data\\testfile 或 D:\\code\\ML_202105\\data\\testfile  <br>\n",
    "輸出(Output):\n",
    "```\n",
    "I'm a directory: file1\n",
    "I'm a directory: file2\n",
    "I'm a File: hw_07945001.txt\n",
    "I'm a File: hw_079450010.doc\n",
    "I'm a File: hw_07945002.txt\n",
    "I'm a File: hw_07945003.txt\n",
    "I'm a File: hw_07945004.txt\n",
    "I'm a File: hw_07945005.txt\n",
    "I'm a File: hw_07945007.txt\n",
    "I'm a File: hw_07945008.txt\n",
    "I'm a File: hw_07945009.txt\n",
    "```\n",
    "\n",
    "* 進階: 把file的學號抓出來，另存成一個新的csv檔"
   ]
  },
  {
   "cell_type": "code",
   "execution_count": 14,
   "metadata": {},
   "outputs": [
    {
     "name": "stdin",
     "output_type": "stream",
     "text": [
      "請輸入該專案底下的路徑，如unit-1-python\testfile:  unit-1-python\\testfile\n"
     ]
    },
    {
     "name": "stdout",
     "output_type": "stream",
     "text": [
      "你輸入的路徑: unit-1-python\\testfile\n",
      "完整路徑: C:\\Users\\stella.dai\\Documents\\pyproject\\IMLP421\\unit-1-python\\testfile\n",
      "\n",
      "這是指定路徑下的所有檔案(包含資料夾):\n",
      "I'm a directory: file1\n",
      "I'm a directory: file2\n",
      "I'm a File: hw_07945001.txt\n",
      "I'm a File: hw_079450010.doc\n",
      "I'm a File: hw_07945002.txt\n",
      "I'm a File: hw_07945003.txt\n",
      "I'm a File: hw_07945004.txt\n",
      "I'm a File: hw_07945005.txt\n",
      "I'm a File: hw_07945007.txt\n",
      "I'm a File: hw_07945008.txt\n",
      "I'm a File: hw_07945009.txt\n"
     ]
    }
   ],
   "source": [
    "import os\n",
    "\n",
    "# 請使用者輸入要查詢的路徑\n",
    "# C:\\Users\\stella.dai\\Documents\\pyproject\\IMLP421\\unit-1-python\\testfile\n",
    "# 設定基礎路徑\n",
    "base_path = r\"C:\\Users\\stella.dai\\Documents\\pyproject\\IMLP421\"\n",
    "# 請使用者輸入相對路徑\n",
    "relative_path = input(\"請輸入該專案底下的路徑，如unit-1-python\\testfile: \")\n",
    "print(f'你輸入的路徑: {relative_path}')\n",
    "# 合併基礎路徑和相對路徑形成完整路徑\n",
    "file_Path = os.path.join(base_path, relative_path)\n",
    "print(f'完整路徑: {file_Path}')\n",
    "\n",
    "# 列出指定路徑底下所有檔案(包含資料夾)\n",
    "allFileList = os.listdir(file_Path)\n",
    "\n",
    "print('\\n這是指定路徑下的所有檔案(包含資料夾):')\n",
    "# 逐一查詢檔案清單\n",
    "for file in allFileList:\n",
    "    # 用isdir檢查是否為目錄\n",
    "    # 用join把路徑與檔案名稱串起來\n",
    "    if os.path.isdir(os.path.join(file_Path,file)):\n",
    "        print(\"I'm a directory: \" + file)\n",
    "    #   使用isfile判斷是否為檔案\n",
    "    elif os.path.isfile(os.path.join(file_Path,file)):\n",
    "        print(\"I'm a File: \" + file)\n"
   ]
  },
  {
   "cell_type": "markdown",
   "metadata": {},
   "source": [
    "### 08 - 資料夾管理(shutil)\n",
    "#### 說明 ####\n",
    "\n",
    "```\n",
    "在目前所在的目錄下建立一files資料夾\n",
    "\n",
    "令使用者輸入一數字N，並在files資料夾中建立f1, f2… fN等N個資料夾後列出files的資料夾內容\n",
    "\n",
    "將files資料夾裡的f1資料夾重新命名成folder1後再列出files的資料夾內容\n",
    "\n",
    "移除files資料夾中的folder1後再列出files的資料夾內容\n",
    "\n",
    "最後移除files資料夾\n",
    "※須先退出files資料夾(os.chdir(../)) \n",
    "![image.png](attachment:image.png)\n",
    "```\n"
   ]
  },
  {
   "cell_type": "code",
   "execution_count": 15,
   "metadata": {},
   "outputs": [
    {
     "name": "stdin",
     "output_type": "stream",
     "text": [
      "請輸入一個數字:  3\n"
     ]
    },
    {
     "name": "stdout",
     "output_type": "stream",
     "text": [
      "在files資料夾下建立 3 個子資料夾\n",
      "\n",
      "建立後files資料夾的內容:\n",
      "['f1', 'f2', 'f3']\n",
      "重新命名後files資料夾的內容:\n",
      "['f2', 'f3', 'folder1']\n",
      "移除folder1後files資料夾的內容:\n",
      "['f2', 'f3']\n",
      "已移除files資料夾\n"
     ]
    }
   ],
   "source": [
    "import os\n",
    "import shutil\n",
    "\n",
    "# 設定建立資料夾目錄的路徑\n",
    "create_file_path = r\"C:\\Users\\stella.dai\\Documents\\pyproject\\IMLP421\\unit-1-python\"\n",
    "\n",
    "# 在指定的路徑下建立一個名為files的資料夾\n",
    "files_path = os.path.join(create_file_path, 'files')\n",
    "if os.path.exists(files_path):\n",
    "    # 如果已存在則刪除再創建\n",
    "    shutil.rmtree(files_path)\n",
    "os.mkdir(files_path)\n",
    "\n",
    "# 請使用者輸入一個數字N，表示要在files資料夾中建立N個子資料夾\n",
    "N = int(input(\"請輸入一個數字: \"))\n",
    "print(f'在files資料夾下建立 {N} 個子資料夾\\n')\n",
    "\n",
    "# 在files資料夾中建立f1, f2, ... fN等N個資料夾\n",
    "for i in range(1, N + 1):\n",
    "    folder_path = os.path.join(files_path, f'f{i}')\n",
    "    os.mkdir(folder_path)\n",
    "# 列出files資料夾中的所有內容\n",
    "print(\"建立後files資料夾的內容:\")\n",
    "print(os.listdir(files_path))\n",
    "\n",
    "# 將files資料夾中的f1資料夾重新命名為folder1\n",
    "os.rename(os.path.join(files_path, 'f1'), os.path.join(files_path, 'folder1'))\n",
    "# 列出重新命名後files資料夾的所有內容\n",
    "print(\"重新命名後files資料夾的內容:\")\n",
    "print(os.listdir(files_path))\n",
    "\n",
    "# 移除files資料夾中的folder1\n",
    "shutil.rmtree(os.path.join(files_path, 'folder1'))\n",
    "# 列出移除folder1後files資料夾的所有內容\n",
    "print(\"移除folder1後files資料夾的內容:\")\n",
    "print(os.listdir(files_path))\n",
    "\n",
    "# 先取得目前的工作目錄\n",
    "current_dir = os.getcwd()\n",
    "# 切換到files資料夾的上一層目錄\n",
    "os.chdir(create_file_path)\n",
    "# 移除files資料夾及其內容\n",
    "shutil.rmtree(files_path)\n",
    "# 切換回原本的工作目錄\n",
    "os.chdir(current_dir)\n",
    "print(\"已移除files資料夾\")"
   ]
  },
  {
   "cell_type": "markdown",
   "metadata": {},
   "source": [
    "### 09 - 回文判斷（Is a palindrome）\n",
    "#### 請使用者輸入單字，判斷它是否為回文，也就是該單字前後對稱，例如 madam，從前讀到後或是從後讀到前的順序都是 madam。\n",
    "\n",
    "> 題目：<br>\n",
    "輸入(Input): 雨 滋 春 樹 碧 連 天  天 連 碧 樹 春 滋 雨 <br>\n",
    "輸出(Output):The text you have entered is a palindrome!<br>\n",
    "輸入(Input): 資工訓練班 <br>\n",
    "輸出(Output):The text you have entered is not a palindrome.\n"
   ]
  },
  {
   "cell_type": "code",
   "execution_count": 16,
   "metadata": {},
   "outputs": [
    {
     "name": "stdout",
     "output_type": "stream",
     "text": [
      "\n",
      "Palindrome checker\n"
     ]
    },
    {
     "name": "stdin",
     "output_type": "stream",
     "text": [
      "\n",
      "Please enter a word, phrase, or a sentence \n",
      "to check if it is a palindrome:  雨 滋 春 樹 碧 連 天 天 連 碧 樹 春 滋 雨\n"
     ]
    },
    {
     "name": "stdout",
     "output_type": "stream",
     "text": [
      "你輸入的字串: 雨 滋 春 樹 碧 連 天 天 連 碧 樹 春 滋 雨\n",
      "The text you have entered is a palindrome!\n"
     ]
    }
   ],
   "source": [
    "def convertInputString():\n",
    "    # 請使用者輸入一串字串，並轉換字串為統一小寫\n",
    "    rawInput = input(\"\\nPlease enter a word, phrase, or a sentence \\nto check if it is a palindrome: \")\n",
    "    return rawInput.lower()\n",
    "\n",
    "def stripAnalphabetics(dirtyList):\n",
    "    analphabeticList = [\" \", \"-\", \".\", \",\", \":\", \";\", \"!\", \"?\", \"'\", \"\\\"\"]\n",
    "    # 去除相關標點符號\n",
    "    return [char for char in dirtyList if char not in analphabeticList]\n",
    "\n",
    "def runPalindromeCheck(straightList):\n",
    "    # 判斷是否是回文\n",
    "    reversedList = straightList[::-1]\n",
    "    if straightList == reversedList:\n",
    "        return \"The text you have entered is a palindrome!\"\n",
    "    else:\n",
    "        return \"The text you have entered is not a palindrome.\"\n",
    "    \n",
    "def main():\n",
    "    print(\"\\nPalindrome checker\")\n",
    "    # 使用者輸入字串\n",
    "    rawInput = convertInputString()\n",
    "    print(f'你輸入的字串: {rawInput}')\n",
    "    # 去除相關標點符號\n",
    "    cleanList = stripAnalphabetics(rawInput)\n",
    "    # 判斷是否是回文\n",
    "    result = runPalindromeCheck(cleanList)\n",
    "    print(result)\n",
    "\n",
    "main()"
   ]
  },
  {
   "cell_type": "markdown",
   "metadata": {},
   "source": [
    "### 10 - 總成績計算\n",
    "#### 說明 ####\n",
    "\n",
    "請讀取 `data/english_list.csv`與`data/math_list.csv`檔案(`utf-8`)後，將每位同學的英文與數學成績加總起來，並將檔案寫入至 `./Score.csv`中，編碼成`utf-8`<br>\n",
    "最後列印出每位學生姓名與加總後的分數<br>\n",
    "<a href=\"data\\english_list.csv\">英文成績下載</a><br>\n",
    "<a href=\"data\\math_list.csv\">數學成績下載</a><br>\n",
    "\n",
    "#### Input Format ####\n",
    "\n",
    "<br>\n",
    "csv資料(英文成績)<br>\n",
    "csv資料(數學成績)<br>\n",
    "<br>\n",
    "\n",
    "#### Output Format ####\n",
    "\n",
    "<br>\n",
    "\n",
    "![](data\\05.JPG)<br>\n",
    "<br>\n",
    "<br>\n",
    "(圖片參考用 以文字敘述為準)<br>\n",
    "\n",
    "\n",
    "\n",
    "\n",
    "#### Sample Input 1####\n",
    "\n",
    "\n",
    "\n",
    "```\n",
    "無標準輸入，只有檔案輸入\n",
    "```\n",
    "\n",
    "\n",
    "\n",
    "#### Sample Output 1####\n",
    "\n",
    "\n",
    "```\n",
    "廖冠霖 142\n",
    "王力中 124\n",
    "張平舜 108\n",
    ".\n",
    ".\n",
    ".\n",
    ".\n",
    ".\n",
    "陳姿茜 77\n",
    "涂珮瑜 134\n",
    "夏明哲 111\n",
    "\n",
    "```\n",
    "\n",
    "\n",
    "#### Hint ####\n",
    "\n",
    "\n",
    "\n",
    "```\n",
    "None\n",
    "```\n"
   ]
  },
  {
   "cell_type": "code",
   "execution_count": 17,
   "metadata": {},
   "outputs": [
    {
     "name": "stdout",
     "output_type": "stream",
     "text": [
      "總共有 30 筆資料\n",
      "\n",
      "Name,Total Score\n",
      "廖冠霖,142,\n",
      "王力中,124,\n",
      "張平舜,108,\n",
      "洪婷婷,128,\n",
      "林士雨,86,\n",
      "陳宗翰,28,\n",
      "洪偉珊,134,\n",
      "顏又芹,32,\n",
      "王亦夏,55,\n",
      "姚成華,77,\n",
      "潘詠月,144,\n",
      "倪浩迪,163,\n",
      "郭心怡,109,\n",
      "黃政聖,99,\n",
      "顏曉雲,135,\n",
      "彭曉雯,77,\n",
      "葉健仁,117,\n",
      "賴軒年,167,\n",
      "韓致遠,52,\n",
      "陳常芝,80,\n",
      "黃佩樺,108,\n",
      "林詩虹,178,\n",
      "黃心卿,96,\n",
      "郭奕全,101,\n",
      "游子揚,127,\n",
      "杜茜行,107,\n",
      "李美一,64,\n",
      "陳姿茜,77,\n",
      "涂珮瑜,134,\n",
      "夏明哲,111,\n"
     ]
    }
   ],
   "source": [
    "# 讀取英文和數學成績檔案\n",
    "fin_E = open(\"data/english_list.csv\", \"r\", encoding='UTF-8')\n",
    "fin_M = open(\"data/math_list.csv\", \"r\", encoding='UTF-8')\n",
    "\n",
    "lisE = [] # 儲存英文成績\n",
    "lisM = [] # 儲存數學成績\n",
    "name = [] # 儲存學生姓名\n",
    "\n",
    "# 讀取英文成績\n",
    "# 跳過標題行\n",
    "next(fin_E)\n",
    "for line in fin_E.readlines():\n",
    "    line = line.strip().split(\",\")\n",
    "    name.append(line[0])  # 學生姓名存入name列表\n",
    "    lisE.append(line[1])  # 英文成績存入lisE列表\n",
    "\n",
    "# 讀取數學成績\n",
    "# 跳過標題行\n",
    "next(fin_M)\n",
    "for line in fin_M.readlines():\n",
    "    line = line.strip().split(\",\")\n",
    "    lisM.append(line[1])  # 數學成績存入lisM列表\n",
    "\n",
    "# 讀取完畢後，關閉英文和數學成績csv檔案\n",
    "fin_E.close()\n",
    "fin_M.close()\n",
    "\n",
    "# 計算每位學生的總分數並寫入Score.csv檔案\n",
    "score = [] # 用於儲存每位學生的總分數\n",
    "fout = open(\"Score.csv\", \"w\", encoding='UTF-8')\n",
    "fout.write(\"Name,Total Score\\n\") # 寫入標題行\n",
    "\n",
    "# 計算資料筆數\n",
    "data_count = 0\n",
    "# 逐一計算每位學生的總分數並寫入檔案\n",
    "for i in range(len(name)):\n",
    "    total_score = int(lisE[i]) + int(lisM[i])\n",
    "    # 將總分數添加到score列表中\n",
    "    score.append(total_score)\n",
    "    # 將姓名和總分數組合成列表\n",
    "    list1 = [name[i], str(total_score), \"\\n\"]\n",
    "    # 將列表轉換為逗號分隔的字串\n",
    "    line = \",\".join(list1)\n",
    "    # 將字串寫入檔案\n",
    "    fout.write(line)\n",
    "    # print(name[i], str(total_score))\n",
    "    # 累加資料筆數\n",
    "    data_count += 1\n",
    "\n",
    "# 關閉Score.csv檔案\n",
    "fout.close()\n",
    "\n",
    "# 列印資料筆數\n",
    "print(f\"總共有 {data_count} 筆資料\\n\")\n",
    "\n",
    "# 讀取Score.csv檔案，並列印其內容\n",
    "with open(\"Score.csv\", \"r\", encoding='UTF-8') as fout:\n",
    "    for line in fout:\n",
    "        print(line.strip())\n"
   ]
  },
  {
   "cell_type": "code",
   "execution_count": null,
   "metadata": {},
   "outputs": [],
   "source": []
  }
 ],
 "metadata": {
  "kernelspec": {
   "display_name": "Python 3 (ipykernel)",
   "language": "python",
   "name": "python3"
  },
  "language_info": {
   "codemirror_mode": {
    "name": "ipython",
    "version": 3
   },
   "file_extension": ".py",
   "mimetype": "text/x-python",
   "name": "python",
   "nbconvert_exporter": "python",
   "pygments_lexer": "ipython3",
   "version": "3.12.4"
  }
 },
 "nbformat": 4,
 "nbformat_minor": 4
}
