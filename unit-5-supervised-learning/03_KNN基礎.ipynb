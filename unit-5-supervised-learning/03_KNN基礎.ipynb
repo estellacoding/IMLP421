{
 "cells": [
  {
   "cell_type": "markdown",
   "metadata": {},
   "source": [
    "# KNN電影分類特徵值的項目與評分"
   ]
  },
  {
   "cell_type": "markdown",
   "metadata": {},
   "source": [
    "## 題目：\n",
    "![](images/knn.png)\n",
    "\n",
    "## 答案：\n",
    "![output](images/knn_1.png)"
   ]
  },
  {
   "cell_type": "markdown",
   "metadata": {},
   "source": [
    "## 歐幾里德距離的平方和"
   ]
  },
  {
   "cell_type": "code",
   "execution_count": 1,
   "metadata": {},
   "outputs": [
    {
     "name": "stdout",
     "output_type": "stream",
     "text": [
      "與玩命關頭最相似的電影 :  雙子殺手\n",
      "相似度值 :  6\n",
      "相似度值 :  6\n",
      "影片 : 復仇者聯盟, 相似度 :  51.00\n",
      "影片 : 決戰中途島, 相似度 :  75.00\n",
      "影片 : 冰雪奇緣, 相似度 : 262.00\n",
      "影片 : 雙子殺手, 相似度 :   6.00\n"
     ]
    }
   ],
   "source": [
    "import math\n",
    "\n",
    "film = [5, 7, 8, 10, 2]  # 玩命關頭特徵值\n",
    "film_titles = [          # 比較影片片名\n",
    "    '復仇者聯盟',\n",
    "    '決戰中途島',\n",
    "    '冰雪奇緣',\n",
    "    '雙子殺手',\n",
    "]\n",
    "film_features = [        # 比較影片特徵值\n",
    "    [2, 8, 8, 5, 6],\n",
    "    [5, 6, 9, 2, 5],\n",
    "    [8, 2, 0, 0, 10],\n",
    "    [5, 8, 8, 8, 3],\n",
    "]\n",
    "\n",
    "# 儲存影片相似度值\n",
    "dist = [] \n",
    "# 計算各電影相似程度（使用歐幾里德距離）\n",
    "for features in film_features:\n",
    "    distances = 0\n",
    "    for i in range(len(features)):\n",
    "        distances += (film[i]-features[i]) ** 2\n",
    "    dist.append(distances)\n",
    "\n",
    "# 求最小值\n",
    "min_dist = min(dist)\n",
    "# 最小值的索引\n",
    "min_index = dist.index(min_dist)\n",
    "\n",
    "print(\"與玩命關頭最相似的電影 : \", film_titles[min_index])\n",
    "print(\"相似度值 : \", min_dist)\n",
    "print(\"相似度值 : \", dist[min_index])\n",
    "\n",
    "# 印出玩命關頭與其他所有電影的相似程度\n",
    "for i in range(len(dist)):\n",
    "    print(\"影片 : %s, 相似度 : %6.2f\" % (film_titles[i], dist[i]))"
   ]
  },
  {
   "cell_type": "markdown",
   "metadata": {},
   "source": [
    "## 歐幾里德距離的平方根"
   ]
  },
  {
   "cell_type": "code",
   "execution_count": 2,
   "metadata": {},
   "outputs": [
    {
     "name": "stdout",
     "output_type": "stream",
     "text": [
      "與玩命關頭最相似的電影 :  雙子殺手\n",
      "相似度值 :  2.449489742783178\n",
      "影片 : 復仇者聯盟, 相似度 :   7.14\n",
      "影片 : 決戰中途島, 相似度 :   8.66\n",
      "影片 : 冰雪奇緣, 相似度 :  16.19\n",
      "影片 : 雙子殺手, 相似度 :   2.45\n"
     ]
    }
   ],
   "source": [
    "import math\n",
    "\n",
    "film = [5, 7, 8, 10, 2]  # 玩命關頭特徵值\n",
    "film_titles = [          # 比較影片片名\n",
    "    '復仇者聯盟',\n",
    "    '決戰中途島',\n",
    "    '冰雪奇緣',\n",
    "    '雙子殺手',\n",
    "]\n",
    "film_features = [        # 比較影片特徵值\n",
    "    [2, 8, 8, 5, 6],\n",
    "    [5, 6, 9, 2, 5],\n",
    "    [8, 2, 0, 0, 10],\n",
    "    [5, 8, 8, 8, 3],\n",
    "]\n",
    "\n",
    "# 儲存影片相似度值\n",
    "dist = [] \n",
    "\n",
    "# 計算各電影相似程度（使用歐幾里德距離）\n",
    "for features in film_features:\n",
    "    distance = math.sqrt(sum((f - t) ** 2 for f, t in zip(film, features)))\n",
    "    dist.append(distance)\n",
    "\n",
    "# 求最小值\n",
    "min_dist = min(dist)\n",
    "\n",
    "# 最小值的索引\n",
    "min_index = dist.index(min_dist)\n",
    "\n",
    "print(\"與玩命關頭最相似的電影 : \", film_titles[min_index])\n",
    "print(\"相似度值 : \", min_dist)\n",
    "\n",
    "# 印出玩命關頭與其他所有電影的相似程度\n",
    "for i in range(len(dist)):\n",
    "    print(\"影片 : %s, 相似度 : %6.2f\" % (film_titles[i], dist[i]))"
   ]
  },
  {
   "cell_type": "markdown",
   "metadata": {},
   "source": [
    "# KNN"
   ]
  },
  {
   "cell_type": "markdown",
   "metadata": {},
   "source": [
    "![knn_2](images/knn_2.png)\n",
    "\n",
    "- 從訓練集合找跟這新樣本距離最近的K個特徵樣本來決定該新樣本點的最終類別。\n",
    "- 對於異常值不敏感\n",
    "- 缺點在於計算量大、非常耗時，因為要載入所有特徵集合加入距離計算，所以記憶體空間用量也非常大。"
   ]
  },
  {
   "cell_type": "markdown",
   "metadata": {},
   "source": [
    "# 畢式定理"
   ]
  },
  {
   "cell_type": "code",
   "execution_count": 3,
   "metadata": {},
   "outputs": [
    {
     "data": {
      "image/png": "[encoded data removed]",
      "text/plain": [
       "<Figure size 800x800 with 1 Axes>"
      ]
     },
     "metadata": {},
     "output_type": "display_data"
    }
   ],
   "source": [
    "import matplotlib.pyplot as plt\n",
    "import matplotlib.patches as patches\n",
    "import numpy as np\n",
    "from matplotlib.transforms import Affine2D\n",
    "\n",
    "# 創建畫布\n",
    "fig, ax = plt.subplots(figsize=(8, 8))\n",
    "\n",
    "# 畫外部正方形\n",
    "outer_square = patches.Polygon(\n",
    "    [[-1, -1], [1, -1], [1, 1], [-1, 1]],\n",
    "    closed=True, edgecolor='gray', facecolor='none', linewidth=2\n",
    ")\n",
    "ax.add_patch(outer_square)\n",
    "\n",
    "# 畫內部正方形\n",
    "transform = Affine2D().rotate_deg(45) + ax.transData\n",
    "inner_square = patches.Polygon(\n",
    "    [[-np.sqrt(2)/2, -np.sqrt(2)/2], [np.sqrt(2)/2, -np.sqrt(2)/2], [np.sqrt(2)/2, np.sqrt(2)/2], [-np.sqrt(2)/2, np.sqrt(2)/2]],\n",
    "    closed=True, edgecolor='darkcyan', facecolor='none', linewidth=2, transform=transform\n",
    ")\n",
    "ax.add_patch(inner_square)\n",
    "\n",
    "# 添加 a, b, c 字符\n",
    "positions_a = [(-0.5, -1.1), (1.1, -0.5), (0.5, 1.1), (-1.1, 0.5)]\n",
    "positions_b = [(0.5, -1.1), (1.1, 0.5), (-0.5, 1.1), (-1.1, -0.5)]\n",
    "positions_c = [(-0.6, 0.5), (0.6, 0.5), (0.6,-0.5), (-0.6, -0.5)]\n",
    "\n",
    "for pos in positions_a:\n",
    "    ax.text(pos[0], pos[1], 'a', fontsize=15, ha='center', va='center', color='black')\n",
    "for pos in positions_b:\n",
    "    ax.text(pos[0], pos[1], 'b', fontsize=15, ha='center', va='center', color='black')\n",
    "for pos in positions_c:\n",
    "    ax.text(pos[0], pos[1], 'c', fontsize=15, ha='center', va='center', color='black')\n",
    "\n",
    "# 設置坐標軸\n",
    "ax.set_xlim([-2, 2])\n",
    "ax.set_ylim([-2, 2])\n",
    "ax.set_aspect('equal')\n",
    "ax.axis('off')\n",
    "\n",
    "# 添加直角標示\n",
    "def add_right_angle_marker(ax, x, y, size=0.1, angle=0, color='black'):\n",
    "    marker = patches.Polygon(\n",
    "        [[x, y], [x + size, y], [x + size, y + size], [x, y + size]],\n",
    "        closed=True, edgecolor=color, facecolor='none', linewidth=1\n",
    "    )\n",
    "    t = Affine2D().rotate_deg(angle) + ax.transData\n",
    "    marker.set_transform(t)\n",
    "    ax.add_patch(marker)\n",
    "\n",
    "# 外部正方形直角標示\n",
    "add_right_angle_marker(ax, 0.9, -1)\n",
    "add_right_angle_marker(ax, 0.9, -1, angle=90)\n",
    "add_right_angle_marker(ax, 0.9, 0.9, angle=180)\n",
    "add_right_angle_marker(ax, -1, 0.9)\n",
    "\n",
    "# 內部正方形直角標示\n",
    "add_right_angle_marker(ax, 0.6, 0.6, angle=45)\n",
    "add_right_angle_marker(ax, -0.7, 0.6, angle=135)\n",
    "add_right_angle_marker(ax, -0.7, 0.6, angle=225)\n",
    "add_right_angle_marker(ax, -0.7, -0.7, angle=315)\n",
    "\n",
    "# 顯示圖像\n",
    "plt.show()"
   ]
  },
  {
   "cell_type": "markdown",
   "metadata": {},
   "source": [
    "## 概念\n",
    "- 畢式定理: 直角三角形中兩個直角邊長的平方和等於斜邊長的平方\n",
    "- 公式表示為：$ a^2 + b^2 = c^2 $\n",
    "\n",
    "## 推導過程\n",
    "1. **大正方形的面積**: $ (a + b)^2 $\n",
    "\n",
    "2. **四個直角三角形的總面積**:\n",
    "   - 每個直角三角形的面積為 $ \\frac{1}{2}ab $\n",
    "   - 四個直角三角形的總面積為 $ 4 \\times \\frac{1}{2}ab = 2ab $\n",
    "\n",
    "3. **中間正方形的面積**: $ c^2 $\n",
    "\n",
    "4. **整理公式**:\n",
    "    - 大正方形的面積 = 中間正方形的面積 + 四個直角三角形的總面積: $ (a + b)^2 = c^2 + 2ab $\n",
    "   - 展開大正方形的面積公式 $ (a + b)^2 = a^2 + 2ab + b^2 $\n",
    "   - 將兩個面積公式相等: $ a^2 + 2ab + b^2 = c^2 + 2ab $\n",
    "   - 消去兩邊的$2ab$: $ a^2 + b^2 = c^2 $"
   ]
  },
  {
   "cell_type": "code",
   "execution_count": null,
   "metadata": {},
   "outputs": [],
   "source": []
  }
 ],
 "metadata": {
  "kernelspec": {
   "display_name": "basic-env",
   "language": "python",
   "name": "basic-env"
  },
  "language_info": {
   "codemirror_mode": {
    "name": "ipython",
    "version": 3
   },
   "file_extension": ".py",
   "mimetype": "text/x-python",
   "name": "python",
   "nbconvert_exporter": "python",
   "pygments_lexer": "ipython3",
   "version": "3.9.13"
  }
 },
 "nbformat": 4,
 "nbformat_minor": 4
}
