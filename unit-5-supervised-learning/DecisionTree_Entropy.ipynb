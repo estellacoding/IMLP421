{
 "cells": [
  {
   "cell_type": "markdown",
   "metadata": {},
   "source": [
    "# Entropy"
   ]
  },
  {
   "cell_type": "markdown",
   "metadata": {},
   "source": [
    "$\n",
    "\\text{Info}(D) = -\\sum_{i=1}^{m} p_i \\log_2(p_i)\n",
    "$\n",
    "- D:代表某一個特徵,且有m個類別\n",
    "- p:是某一個類別在這個特徵中出現的機率\n",
    "\n",
    "\n",
    "資料是各一半時，表示各個類別概率𝑝為0.5。`Entropy = 1`\n",
    "\n",
    "$Entropy = -0.5 \\log_2(0.5) - 0.5 \\log_2(0.5) = 1$\n",
    "\n",
    "當資料是完全同一類時，表示只有一個類別，其概率𝑝為1，其他類別的概率𝑝為0。`Entropy = 0`\n",
    "\n",
    "$Entropy = -1 \\log_2(1) - 0 \\log_2(0) = 0$\n",
    "- $\\log_2(1)$ = 0\n",
    "- 若$a^b=c，則log_a(c)=b$，故b=0\n",
    "- $\\log_2(0)$無意義，數學上處理 $\\lim_{p→0} p\\log_2(p) =0$"
   ]
  },
  {
   "cell_type": "code",
   "execution_count": 1,
   "metadata": {},
   "outputs": [
    {
     "data": {
      "image/png": "[encoded data removed]",
      "text/plain": [
       "<Figure size 640x480 with 1 Axes>"
      ]
     },
     "metadata": {},
     "output_type": "display_data"
    }
   ],
   "source": [
    "import numpy as np\n",
    "import matplotlib.pyplot as plt\n",
    "\n",
    "# 定義熵計算公式\n",
    "def entropy(p):\n",
    "    return -p * np.log2(p) - (1 - p) * np.log2(1 - p)\n",
    "\n",
    "# 定義概率範圍\n",
    "p = np.linspace(0.01, 0.99, 100)\n",
    "H = entropy(p)\n",
    "\n",
    "# 繪製熵圖\n",
    "plt.plot(p, H, 'r', linewidth=3)\n",
    "plt.xlabel('p')\n",
    "plt.ylabel('Entropy')\n",
    "plt.title(r'Entropy = -p $\\log_2$(p) - (1 - p) $\\log_2$(1 - p)')\n",
    "plt.grid(False)\n",
    "\n",
    "# 顯示熵計算公式和熵值\n",
    "plt.text(0.5, 0.5, r'Entropy = -p $\\log_2$(p) - (1 - p) $\\log_2$(1 - p)', fontsize=12, ha='center')\n",
    "\n",
    "plt.show()"
   ]
  },
  {
   "cell_type": "markdown",
   "metadata": {},
   "source": [
    "# Information Gain"
   ]
  },
  {
   "cell_type": "markdown",
   "metadata": {},
   "source": [
    "$$\n",
    "\\text{Gain}(S, A) = \\text{Entropy}(S) - \\sum_{v \\in \\text{Values}(A)} \\frac{S_v}{S} \\text{Entropy}(S_v)\n",
    "$$"
   ]
  },
  {
   "cell_type": "markdown",
   "metadata": {},
   "source": [
    "# Define Entropy"
   ]
  },
  {
   "cell_type": "code",
   "execution_count": 2,
   "metadata": {},
   "outputs": [],
   "source": [
    "import numpy as np\n",
    "from math import log\n",
    "import matplotlib\n",
    "import matplotlib.pyplot as plt\n",
    "%matplotlib inline"
   ]
  },
  {
   "cell_type": "code",
   "execution_count": 3,
   "metadata": {},
   "outputs": [],
   "source": [
    "# 計算二分類情況下的熵\n",
    "def E(a,b):\n",
    "    if a == 0 or b ==0:\n",
    "        return 0\n",
    "    probs_a = a / (a+b)\n",
    "    probs_b = b / (a+b)\n",
    "    # Compute entropy\n",
    "    ent = -(probs_a * log(probs_a,2) + probs_b * log(probs_b,2))\n",
    "    return ent\n",
    "\n",
    "# 計算多分類情況下的熵\n",
    "def entropy_labels(labels):\n",
    "    n_labels = len(labels)\n",
    "\n",
    "    if n_labels <= 1:\n",
    "        return 0\n",
    "\n",
    "    value,counts = np.unique(labels, return_counts=True)\n",
    "    # print(value,counts)\n",
    "    probs = counts / n_labels\n",
    "\n",
    "    ent = 0.\n",
    "    # Compute entropy\n",
    "    for i in probs:\n",
    "        ent -= i * log(i,2)\n",
    "\n",
    "    return ent"
   ]
  },
  {
   "cell_type": "markdown",
   "metadata": {},
   "source": [
    "# Example: Play Golf - 1 tier"
   ]
  },
  {
   "cell_type": "markdown",
   "metadata": {},
   "source": [
    "| Outlook  | Temp | Humidity | Windy | Play Golf |\n",
    "|----------|------|----------|-------|-----------|\n",
    "| Rain     | Hot  | High     | false | No        |\n",
    "| Rain     | Hot  | High     | true  | No        |\n",
    "| overcast | Hot  | High     | false | Yes       |\n",
    "| Sunny    | Mild | High     | false | Yes       |\n",
    "| Sunny    | Cool | normal   | false | Yes       |\n",
    "| Sunny    | Cool | normal   | true  | No        |\n",
    "| overcast | Cool | normal   | true  | Yes       |\n",
    "| Rain     | Mild | High     | false | No        |\n",
    "| Rain     | Cool | normal   | false | Yes       |\n",
    "| Sunny    | Mild | normal   | false | Yes       |\n",
    "| Rain     | Mild | normal   | true  | Yes       |\n",
    "| overcast | Mild | High     | true  | Yes       |\n",
    "| overcast | Hot  | normal   | false | Yes       |\n",
    "| Sunny    | Mild | High     | true  | No        |"
   ]
  },
  {
   "cell_type": "markdown",
   "metadata": {},
   "source": [
    "## Step 1\n",
    "Calculate entropy of Play Golf (target)"
   ]
  },
  {
   "cell_type": "markdown",
   "metadata": {},
   "source": [
    "| | Yes | No |\n",
    "|-|-|-|\n",
    "| Play Golf | 9 | 5|"
   ]
  },
  {
   "cell_type": "code",
   "execution_count": 4,
   "metadata": {},
   "outputs": [
    {
     "data": {
      "text/plain": [
       "0.9402859586706309"
      ]
     },
     "execution_count": 4,
     "metadata": {},
     "output_type": "execute_result"
    }
   ],
   "source": [
    "# Play Golf Entropy\n",
    "e_play = E(9,5)\n",
    "e_play"
   ]
  },
  {
   "cell_type": "code",
   "execution_count": 5,
   "metadata": {},
   "outputs": [
    {
     "data": {
      "text/plain": [
       "0.9402859586706309"
      ]
     },
     "execution_count": 5,
     "metadata": {},
     "output_type": "execute_result"
    }
   ],
   "source": [
    "# Play Golf Entropy\n",
    "play_labels = ['no', 'no', 'yes', 'yes', 'yes', 'no', 'yes', 'no', 'yes', 'yes', 'yes', 'yes', 'yes', 'no']\n",
    "entropy_labels(play_labels)"
   ]
  },
  {
   "cell_type": "markdown",
   "metadata": {},
   "source": [
    "## Step 2\n",
    "The dataset is then split into the different attributes"
   ]
  },
  {
   "cell_type": "markdown",
   "metadata": {},
   "source": [
    "### Outlook Gain"
   ]
  },
  {
   "cell_type": "markdown",
   "metadata": {},
   "source": [
    "|          |            | Play Golf |     |\n",
    "|----------|------------|-----------|-----|\n",
    "|          |            | Yes       | No  |\n",
    "| Outlook  | Sunny      | 3         | 2   |\n",
    "|          | Overcast   | 4         | 0   |\n",
    "|          | Rainy      | 2         | 3   |"
   ]
  },
  {
   "cell_type": "code",
   "execution_count": 6,
   "metadata": {
    "scrolled": true
   },
   "outputs": [
    {
     "data": {
      "text/plain": [
       "0.2467498197744391"
      ]
     },
     "execution_count": 6,
     "metadata": {},
     "output_type": "execute_result"
    }
   ],
   "source": [
    "e_play-(5/14*E(3,2)+4/14*E(4,0)+5/14*E(2,3))"
   ]
  },
  {
   "cell_type": "markdown",
   "metadata": {},
   "source": [
    "### Temp Gain"
   ]
  },
  {
   "cell_type": "markdown",
   "metadata": {},
   "source": [
    "|       |        | Play Golf |     |\n",
    "|-------|--------|-----------|-----|\n",
    "|       |        | Yes       | No  |\n",
    "| Temp  | Hot    | 2         | 2   |\n",
    "|       | Mild   | 4         | 2   |\n",
    "|       | Cool   | 3         | 1   |\n"
   ]
  },
  {
   "cell_type": "code",
   "execution_count": 7,
   "metadata": {},
   "outputs": [
    {
     "data": {
      "text/plain": [
       "0.029222565658954647"
      ]
     },
     "execution_count": 7,
     "metadata": {},
     "output_type": "execute_result"
    }
   ],
   "source": [
    "e_play-(4/14*E(2,2)+6/14*E(4,2)+4/14*E(3,1))"
   ]
  },
  {
   "cell_type": "markdown",
   "metadata": {},
   "source": [
    "### Humility Gain"
   ]
  },
  {
   "cell_type": "markdown",
   "metadata": {},
   "source": [
    "|          |        | Play Golf |     |\n",
    "|----------|--------|-----------|-----|\n",
    "|          |        | Yes       | No  |\n",
    "| Humidity | High   | 3         | 4   |\n",
    "|          | Normal | 6         | 1   |\n"
   ]
  },
  {
   "cell_type": "code",
   "execution_count": 8,
   "metadata": {},
   "outputs": [
    {
     "data": {
      "text/plain": [
       "0.15183550136234136"
      ]
     },
     "execution_count": 8,
     "metadata": {},
     "output_type": "execute_result"
    }
   ],
   "source": [
    "e_play-(7/14*E(3,4)+7/14*E(6,1))"
   ]
  },
  {
   "cell_type": "markdown",
   "metadata": {},
   "source": [
    "### Windy Gain"
   ]
  },
  {
   "cell_type": "markdown",
   "metadata": {},
   "source": [
    "|        |        | Play Golf |     |\n",
    "|--------|--------|-----------|-----|\n",
    "|        |        | Yes       | No  |\n",
    "| Windy  | False  | 6         | 2   |\n",
    "|        | True   | 3         | 3   |\n"
   ]
  },
  {
   "cell_type": "code",
   "execution_count": 9,
   "metadata": {},
   "outputs": [
    {
     "data": {
      "text/plain": [
       "0.04812703040826927"
      ]
     },
     "execution_count": 9,
     "metadata": {},
     "output_type": "execute_result"
    }
   ],
   "source": [
    "e_play-(8/14*E(6,2)+6/14*E(3,3))"
   ]
  },
  {
   "cell_type": "markdown",
   "metadata": {},
   "source": [
    "## Step 3\n",
    "pick out attribute with the greatest IG as the decision node"
   ]
  },
  {
   "cell_type": "code",
   "execution_count": 10,
   "metadata": {},
   "outputs": [
    {
     "data": {
      "text/plain": [
       "0.2467498197744391"
      ]
     },
     "execution_count": 10,
     "metadata": {},
     "output_type": "execute_result"
    }
   ],
   "source": [
    "# outlook gain\n",
    "e_play-(5/14*E(3,2)+4/14*E(4,0)+5/14*E(2,3))"
   ]
  },
  {
   "cell_type": "markdown",
   "metadata": {},
   "source": [
    "# Example: Play Golf -2 tier"
   ]
  },
  {
   "attachments": {},
   "cell_type": "markdown",
   "metadata": {},
   "source": [
    "**Outlook = rain 時，獲得最大的信息增益，故 Outlook 為決策樹的第一個節點**\n",
    "\n",
    "接著計算 Temp, Humidity, Windy 的 Information Gain\n",
    "\n",
    "| Outlook  | Temp | Humidity | Windy | Play Golf |\n",
    "|----------|------|----------|-------|-----------|\n",
    "| Rain     | Hot  | High     | false | No        |\n",
    "| Rain     | Hot  | High     | true  | No        |\n",
    "| Rain     | Mild | High     | false | No        |\n",
    "| Rain     | Cool | normal   | false | Yes       |\n",
    "| Rain     | Mild | normal   | true  | Yes       |"
   ]
  },
  {
   "cell_type": "markdown",
   "metadata": {},
   "source": [
    "## Play Golf"
   ]
  },
  {
   "cell_type": "code",
   "execution_count": 11,
   "metadata": {},
   "outputs": [
    {
     "name": "stdout",
     "output_type": "stream",
     "text": [
      "0.9709505944546686\n",
      "====================\n",
      "0.9709505944546686\n"
     ]
    }
   ],
   "source": [
    "# play golf\n",
    "print(E(3,2))\n",
    "print('='*20)\n",
    "\n",
    "labels=['no','no','no', 'yes', 'yes']\n",
    "print(entropy_labels(labels))"
   ]
  },
  {
   "cell_type": "markdown",
   "metadata": {},
   "source": [
    "## Temp Gain"
   ]
  },
  {
   "cell_type": "markdown",
   "metadata": {},
   "source": [
    "|       |        | Play Golf |     |\n",
    "|-------|--------|-----------|-----|\n",
    "|       |        | Yes       | No  |\n",
    "| Temp  | Hot    | 2         | 0   |\n",
    "|       | Mild   | 1         | 1   |\n",
    "|       | Cool   | 1         | 0   |"
   ]
  },
  {
   "cell_type": "code",
   "execution_count": 12,
   "metadata": {
    "scrolled": true
   },
   "outputs": [
    {
     "data": {
      "text/plain": [
       "0.5709505944546686"
      ]
     },
     "execution_count": 12,
     "metadata": {},
     "output_type": "execute_result"
    }
   ],
   "source": [
    "# temp gain\n",
    "E(3,2) - (2/5*E(2,0)+2/5*E(1,1)+1/5*E(1,0))"
   ]
  },
  {
   "cell_type": "markdown",
   "metadata": {},
   "source": [
    "## Humility Gain"
   ]
  },
  {
   "cell_type": "markdown",
   "metadata": {},
   "source": [
    "|          |        | Play Golf |     |\n",
    "|----------|--------|-----------|-----|\n",
    "|          |        | Yes       | No  |\n",
    "| Humidity | High   | 0         | 3   |\n",
    "|          | Normal | 2         | 0   |"
   ]
  },
  {
   "cell_type": "code",
   "execution_count": 13,
   "metadata": {},
   "outputs": [
    {
     "data": {
      "text/plain": [
       "0.9709505944546686"
      ]
     },
     "execution_count": 13,
     "metadata": {},
     "output_type": "execute_result"
    }
   ],
   "source": [
    "# humility gain\n",
    "E(3,2) - (3/5*E(0,3)+2/5*E(2,0))"
   ]
  },
  {
   "cell_type": "markdown",
   "metadata": {},
   "source": [
    "## Windy Gain"
   ]
  },
  {
   "cell_type": "markdown",
   "metadata": {},
   "source": [
    "|        |        | Play Golf |     |\n",
    "|--------|--------|-----------|-----|\n",
    "|        |        | Yes       | No  |\n",
    "| Windy  | False  | 1         | 2   |\n",
    "|        | True   | 1         | 1   |"
   ]
  },
  {
   "cell_type": "code",
   "execution_count": 14,
   "metadata": {
    "scrolled": true
   },
   "outputs": [
    {
     "data": {
      "text/plain": [
       "0.01997309402197489"
      ]
     },
     "execution_count": 14,
     "metadata": {},
     "output_type": "execute_result"
    }
   ],
   "source": [
    "# windy gain\n",
    "E(3,2) - (3/5*E(1,2)+2/5*E(1,1))"
   ]
  },
  {
   "cell_type": "markdown",
   "metadata": {},
   "source": [
    "# 繪制決策樹\n",
    "\n",
    "找到每個節點中最大 Information Gain 的特徵\n",
    "\n",
    "IG 愈大表示此特徵內資料凌亂程度愈小"
   ]
  },
  {
   "cell_type": "markdown",
   "metadata": {},
   "source": [
    "```mermaid\n",
    "graph TD\n",
    "    A[Outlook] --> B[Sunny]\n",
    "    A --> C[Overcast]\n",
    "    A --> D[Rain]\n",
    "    \n",
    "    B --> E[Windy]\n",
    "    E --> F[False]\n",
    "    E --> G[True]\n",
    "    \n",
    "    C --> H[Play=Yes]\n",
    "    F --> I[Play=Yes]\n",
    "    G --> J[Play=No]\n",
    "    \n",
    "    D --> K[Humidity]\n",
    "    K --> L[High]\n",
    "    K --> M[Normal]\n",
    "    L --> N[Play=No]\n",
    "    M --> O[Play=Yes]\n"
   ]
  },
  {
   "cell_type": "markdown",
   "metadata": {},
   "source": [
    "# 自定義的entropy"
   ]
  },
  {
   "cell_type": "markdown",
   "metadata": {},
   "source": [
    "ans\n",
    "\n",
    "['yes'] [3] <br>\n",
    "0.0<br>\n",
    "['no' 'yes'] [2 2]<br>\n",
    "1.0<br>\n",
    "['high' 'low' 'normal'] [3 2 3]<br>\n",
    "1.5612781244591325<br>\n",
    "['high' 'normal'] [5 3]<br>\n",
    "0.9544340029249649<br>"
   ]
  },
  {
   "cell_type": "code",
   "execution_count": 15,
   "metadata": {},
   "outputs": [
    {
     "name": "stdout",
     "output_type": "stream",
     "text": [
      "0.0\n",
      "1.0\n",
      "1.5612781244591325\n",
      "0.9544340029249649\n"
     ]
    }
   ],
   "source": [
    "# 計算多分類情況下的熵\n",
    "def entropy_labels(labels):\n",
    "    n_labels = len(labels)\n",
    "\n",
    "    if n_labels <= 1:\n",
    "        return 0\n",
    "\n",
    "    value,counts = np.unique(labels, return_counts=True)\n",
    "    # print(value,counts)\n",
    "    probs = counts / n_labels\n",
    "\n",
    "    ent = 0.\n",
    "    # Compute entropy\n",
    "    for i in probs:\n",
    "        ent -= i * log(i,2)\n",
    "\n",
    "    return ent\n",
    "\n",
    "\n",
    "labels=['yes','yes','yes']\n",
    "print(entropy_labels(labels))\n",
    "\n",
    "labels=['yes','no','yes','no']\n",
    "print(entropy_labels(labels))\n",
    "\n",
    "labels=['high','low','high','high','low','normal','normal','normal']\n",
    "print(entropy_labels(labels))\n",
    "\n",
    "labels=['high','high','high','high','high','normal','normal','normal']\n",
    "print(entropy_labels(labels))"
   ]
  },
  {
   "cell_type": "markdown",
   "metadata": {},
   "source": [
    "$\\text{Gain}(S, A) = \\text{Entropy}(S) - \\sum_{v \\in \\text{Values}(A)} \\frac{S_v}{S} \\text{Entropy}(S_v)$"
   ]
  },
  {
   "cell_type": "code",
   "execution_count": 16,
   "metadata": {},
   "outputs": [
    {
     "name": "stdout",
     "output_type": "stream",
     "text": [
      "{'Hot': ['no', 'no'], 'Mild': ['no', 'yes'], 'Cool': ['yes']}\n",
      "dict_items([('Hot', ['no', 'no']), ('Mild', ['no', 'yes']), ('Cool', ['yes'])])\n",
      "Initial Entropy (play_labels): 0.9709505944546686\n",
      "Weighted Entropy (temp_labels): 0.4\n",
      "Information Gain (temp): 0.5709505944546686\n"
     ]
    }
   ],
   "source": [
    "play_labels = ['no', 'no', 'no', 'yes', 'yes']\n",
    "temp_labels = ['Hot', 'Hot', 'Mild', 'Cool', 'Mild']\n",
    "\n",
    "# cal play golf entropy\n",
    "initial_entropy = entropy_labels(play_labels)\n",
    "\n",
    "# 建立一個字典，將每個溫度的標籤分成子集\n",
    "temp_dict = {}\n",
    "# [('Hot', 'no'), ('Hot', 'no'), ('Mild', 'no'), ('Cool', 'yes'), ('Mild', 'yes')]\n",
    "for temp, label in zip(temp_labels, play_labels):\n",
    "    if temp not in temp_dict:\n",
    "        temp_dict[temp] = []\n",
    "    temp_dict[temp].append(label)\n",
    "print(temp_dict)\n",
    "print(temp_dict.items())\n",
    "\n",
    "# 計算每個子集的熵，並計算加權熵\n",
    "weighted_entropy = 0\n",
    "for temp, labels in temp_dict.items():\n",
    "    weight = len(labels) / len(play_labels)\n",
    "    weighted_entropy += weight * entropy_labels(labels)\n",
    "\n",
    "info_gain = initial_entropy - weighted_entropy\n",
    "\n",
    "print(\"Initial Entropy (play_labels):\", initial_entropy)\n",
    "print(\"Weighted Entropy (temp_labels):\", weighted_entropy)\n",
    "print(\"Information Gain (temp):\", info_gain) # 0.5709505944546686"
   ]
  },
  {
   "cell_type": "markdown",
   "metadata": {},
   "source": [
    "# scipy-entropy"
   ]
  },
  {
   "cell_type": "markdown",
   "metadata": {},
   "source": [
    "$\\text{Info}(D) = -\\sum_{i=1}^{m} p_i \\log_2(p_i)$\n",
    "\n",
    "$\\text{Gain}(S, A) = \\text{Entropy}(S) - \\sum_{v \\in \\text{Values}(A)} \\frac{S_v}{S} \\text{Entropy}(S_v)$"
   ]
  },
  {
   "cell_type": "code",
   "execution_count": 17,
   "metadata": {},
   "outputs": [],
   "source": [
    "from scipy.stats import entropy"
   ]
  },
  {
   "cell_type": "markdown",
   "metadata": {},
   "source": [
    "## 機率分佈"
   ]
  },
  {
   "cell_type": "code",
   "execution_count": 18,
   "metadata": {},
   "outputs": [
    {
     "data": {
      "text/plain": [
       "1.0"
      ]
     },
     "execution_count": 18,
     "metadata": {},
     "output_type": "execute_result"
    }
   ],
   "source": [
    "entropy([1/2, 1/2], base=2)"
   ]
  },
  {
   "cell_type": "code",
   "execution_count": 19,
   "metadata": {},
   "outputs": [
    {
     "data": {
      "text/plain": [
       "0.954434002924965"
      ]
     },
     "execution_count": 19,
     "metadata": {},
     "output_type": "execute_result"
    }
   ],
   "source": [
    "entropy([5/8, 3/8], base=2)"
   ]
  },
  {
   "cell_type": "markdown",
   "metadata": {},
   "source": [
    "## 頻率\n",
    "也可傳入事件發生的次數，scipy.stats.entropy 會自動轉換為機率分佈"
   ]
  },
  {
   "cell_type": "markdown",
   "metadata": {},
   "source": [
    "| Outlook  | Temp | Humidity | Windy | Play Golf |\n",
    "|----------|------|----------|-------|-----------|\n",
    "| Rain     | Hot  | High     | false | No        |\n",
    "| Rain     | Hot  | High     | true  | No        |\n",
    "| Rain     | Mild | High     | false | No        |\n",
    "| Rain     | Cool | normal   | false | Yes       |\n",
    "| Rain     | Mild | normal   | true  | Yes       |\n",
    "\n",
    "|       |        | Play Golf |     |\n",
    "|-------|--------|-----------|-----|\n",
    "|       |        | Yes       | No  |\n",
    "| Temp  | Hot    | 2         | 0   |\n",
    "|       | Mild   | 1         | 1   |\n",
    "|       | Cool   | 1         | 0   |"
   ]
  },
  {
   "cell_type": "code",
   "execution_count": 20,
   "metadata": {},
   "outputs": [
    {
     "data": {
      "text/plain": [
       "0.5709505944546686"
      ]
     },
     "execution_count": 20,
     "metadata": {},
     "output_type": "execute_result"
    }
   ],
   "source": [
    "E(2,3) - (2/5*entropy([2,0], base=2)+2/5*entropy([1,1], base=2)+1/5*entropy([1,0], base=2))"
   ]
  },
  {
   "cell_type": "code",
   "execution_count": 21,
   "metadata": {},
   "outputs": [
    {
     "name": "stdout",
     "output_type": "stream",
     "text": [
      "Initial Entropy (play_labels): 0.9709505944546688\n",
      "Weighted Entropy (temp_labels): 0.4\n",
      "Information Gain (temp): 0.5709505944546688\n"
     ]
    }
   ],
   "source": [
    "import numpy as np\n",
    "from scipy.stats import entropy\n",
    "\n",
    "play_labels = ['no', 'no', 'no', 'yes', 'yes']\n",
    "temp_labels = ['Hot', 'Hot', 'Mild', 'Cool', 'Mild']\n",
    "\n",
    "# 使用頻率計算play golf的熵\n",
    "play_value, play_counts = np.unique(play_labels, return_counts=True)\n",
    "play_entropy = entropy(play_counts, base=2)\n",
    "\n",
    "print(f\"Initial Entropy (play_labels): {play_entropy}\")\n",
    "\n",
    "# 建立一個字典，將每個溫度的標籤分成子集\n",
    "temp_dict = {}\n",
    "for temp, label in zip(temp_labels, play_labels):\n",
    "    if temp not in temp_dict:\n",
    "        temp_dict[temp] = []\n",
    "    temp_dict[temp].append(label)\n",
    "\n",
    "# 使用頻率計算每個子集的熵，並計算加權熵\n",
    "weighted_entropy = 0\n",
    "for temp, labels in temp_dict.items():\n",
    "    subset_value, subset_counts = np.unique(labels, return_counts=True)\n",
    "    subset_entropy = entropy(subset_counts, base=2)\n",
    "    subset_weight = len(labels) / len(play_labels)\n",
    "    weighted_entropy += subset_weight * subset_entropy\n",
    "\n",
    "print(f\"Weighted Entropy (temp_labels): {weighted_entropy}\")\n",
    "\n",
    "# Cal Information Gain\n",
    "info_gain = play_entropy - weighted_entropy\n",
    "print(f\"Information Gain (temp): {info_gain}\") # 0.5709505944546686"
   ]
  },
  {
   "cell_type": "code",
   "execution_count": null,
   "metadata": {},
   "outputs": [],
   "source": []
  },
  {
   "cell_type": "code",
   "execution_count": null,
   "metadata": {},
   "outputs": [],
   "source": []
  }
 ],
 "metadata": {
  "kernelspec": {
   "display_name": "sk-env",
   "language": "python",
   "name": "sk-env"
  },
  "language_info": {
   "codemirror_mode": {
    "name": "ipython",
    "version": 3
   },
   "file_extension": ".py",
   "mimetype": "text/x-python",
   "name": "python",
   "nbconvert_exporter": "python",
   "pygments_lexer": "ipython3",
   "version": "3.12.4"
  }
 },
 "nbformat": 4,
 "nbformat_minor": 4
}
