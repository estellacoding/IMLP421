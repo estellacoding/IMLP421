{
 "cells": [
  {
   "cell_type": "markdown",
   "id": "e267765e-3720-45bf-9af3-809e7f0ce343",
   "metadata": {},
   "source": [
    "# 概述"
   ]
  },
  {
   "cell_type": "markdown",
   "id": "c2b1112f-d061-4d3d-b9ad-e2174269c9ce",
   "metadata": {},
   "source": [
    "[House Prices - Advanced Regression Techniques](https://www.kaggle.com/competitions/house-prices-advanced-regression-techniques/overview)\n",
    "\n",
    "這份房價資料集是由 Dean De Cock 編制，79 個特徵（幾乎）描述愛荷華州艾姆斯(Ames, Iowa)住宅資訊。<br>\n",
    "我們的目標是**根據房屋特徵來預測房屋的最終價格**。"
   ]
  },
  {
   "cell_type": "markdown",
   "id": "b89d7f37-35bf-4c13-ba89-bfefad9ce266",
   "metadata": {},
   "source": [
    "# 載入套件"
   ]
  },
  {
   "cell_type": "code",
   "execution_count": 1,
   "id": "6d33a057-a97b-4087-aaae-c7281763cbd2",
   "metadata": {},
   "outputs": [],
   "source": [
    "import numpy as np\n",
    "import pandas as pd\n",
    "import datetime\n",
    "\n",
    "import matplotlib.pyplot as plt\n",
    "import seaborn as sns\n",
    "\n",
    "from sklearn.preprocessing import StandardScaler\n",
    "from sklearn.model_selection import train_test_split, GridSearchCV\n",
    "from sklearn.metrics import mean_squared_error\n",
    "\n",
    "from sklearn.svm import SVR\n",
    "\n",
    "import warnings\n",
    "warnings.filterwarnings('ignore')"
   ]
  },
  {
   "cell_type": "markdown",
   "id": "fc4d7653-9100-422d-9eab-49df13ad3dc9",
   "metadata": {},
   "source": [
    "# 載入資料集"
   ]
  },
  {
   "cell_type": "code",
   "execution_count": 2,
   "id": "e5a3ce3c-0532-45fa-b82d-dbdf0744e66f",
   "metadata": {},
   "outputs": [
    {
     "name": "stdout",
     "output_type": "stream",
     "text": [
      "訓練資料集和測試資料集成功!\n",
      "\n",
      "訓練資料集: 1460 rows, 81 columns\n",
      "測試資料集: 1459 rows, 80 columns\n"
     ]
    }
   ],
   "source": [
    "# 讀取訓練資料集和測試資料集\n",
    "train_data = pd.read_csv('./data/train.csv')\n",
    "test_data = pd.read_csv('./data/test.csv')\n",
    "\n",
    "print('訓練資料集和測試資料集成功!\\n')\n",
    "print(f'訓練資料集: {train_data.shape[0]} rows, {train_data.shape[1]} columns')\n",
    "print(f'測試資料集: {test_data.shape[0]} rows, {test_data.shape[1]} columns')"
   ]
  },
  {
   "cell_type": "code",
   "execution_count": 3,
   "id": "fe74e7ac-87c3-4764-8fba-e5b9bb4977d8",
   "metadata": {},
   "outputs": [
    {
     "name": "stdout",
     "output_type": "stream",
     "text": [
      "合併資料集: 2919 rows, 81 columns\n",
      "SalePrice NaN 數量(測試資料集數量): 1459\n"
     ]
    }
   ],
   "source": [
    "all_data = pd.concat([train_data, test_data]).reset_index(drop=True)\n",
    "\n",
    "print(f'合併資料集: {all_data.shape[0]} rows, {all_data.shape[1]} columns')\n",
    "print(f\"SalePrice NaN 數量(測試資料集數量): {all_data['SalePrice'].isnull().sum()}\")"
   ]
  },
  {
   "cell_type": "markdown",
   "id": "d9ae6936-43d1-44b1-ba8a-6036567eb9de",
   "metadata": {},
   "source": [
    "# 資料處理"
   ]
  },
  {
   "cell_type": "markdown",
   "id": "02fe573b-83ba-476d-b0a3-571bf3fec577",
   "metadata": {},
   "source": [
    "## 處理缺失值"
   ]
  },
  {
   "cell_type": "code",
   "execution_count": 4,
   "id": "b99837f4-474b-4df2-959b-aff47b1e7c91",
   "metadata": {},
   "outputs": [],
   "source": [
    "# LotFrontage（街道長度）在不同的街區（Neighborhood）可能有不同的房屋特徵，故根據各自街區計算街道長度的中位數填補\n",
    "all_data['LotFrontage'].fillna(all_data.groupby('Neighborhood')['LotFrontage'].transform('median'), inplace=True)\n",
    "\n",
    "# Alley（巷道類型）由於大多數房屋沒有巷道，可以填補為\"None\"\n",
    "all_data['Alley'].fillna('None', inplace=True)\n",
    "\n",
    "# MasVnrType（磚石飾面類型）可以填補為\"None\"，表示沒有磚石飾面\n",
    "all_data['MasVnrType'].fillna('None', inplace=True)\n",
    "# MasVnrArea（磚石飾面面積）可以填補為0，因為當MasVnrType是\"None\"時，MasVnrArea 應該為0\n",
    "all_data['MasVnrArea'].fillna(0, inplace=True)\n",
    "\n",
    "# BsmtQual、BsmtCond、BsmtExposure、BsmtFinType1、BsmtFinType2\n",
    "# 地下室相關的特徵可能表示沒有地下室，可以填補為 \"None\"\n",
    "bsmt_features = ['BsmtQual', 'BsmtCond', 'BsmtExposure', 'BsmtFinType1', 'BsmtFinType2']\n",
    "all_data[bsmt_features] = all_data[bsmt_features].fillna('None')\n",
    "\n",
    "# Electrical（電氣系統）只有一個缺失值，建議填補為最常見的值\"SBrkr\"\n",
    "all_data['Electrical'].fillna(all_data['Electrical'].mode()[0], inplace=True)\n",
    "\n",
    "# FireplaceQu（壁爐質量評分）可以填補為 \"None\"，表示沒有壁爐。\n",
    "all_data['FireplaceQu'].fillna('None', inplace=True)\n",
    "\n",
    "# GarageType、GarageYrBlt、GarageFinish、GarageQual、GarageCond\n",
    "# 車庫相關的特徵，可能表示沒有車庫，因此可以填補為 \"None\" 或 0\n",
    "all_data['GarageType'].fillna('None', inplace=True)\n",
    "all_data['GarageYrBlt'].fillna(0, inplace=True)\n",
    "all_data['GarageFinish'].fillna('None', inplace=True)\n",
    "all_data['GarageQual'].fillna('None', inplace=True)\n",
    "all_data['GarageCond'].fillna('None', inplace=True)\n",
    "\n",
    "# PoolQC（泳池質量評分）由於很少有房屋有泳池，因此可以填補為\"None\"\n",
    "all_data['PoolQC'].fillna('None', inplace=True)\n",
    "\n",
    "# Fence（圍欄質量）可以填補為\"None\"，表示沒有圍欄\n",
    "all_data['Fence'].fillna('None', inplace=True)\n",
    "\n",
    "# MiscFeature（其他特殊設施）可以填補為\"None\"，表示沒有特殊設施\n",
    "all_data['MiscFeature'].fillna('None', inplace=True)"
   ]
  },
  {
   "cell_type": "code",
   "execution_count": 5,
   "id": "cb5948fd-b112-44d2-91c6-447e6aaa1fac",
   "metadata": {},
   "outputs": [],
   "source": [
    "# MSZoning（區域分類）\n",
    "all_data['MSZoning'].fillna(all_data['MSZoning'].mode()[0], inplace=True)\n",
    "# Utilities（公共設施）\n",
    "all_data['Utilities'].fillna(all_data['Utilities'].mode()[0], inplace=True)\n",
    "# Exterior1st、Exterior2nd（外部覆蓋材料）\n",
    "all_data['Exterior1st'].fillna(all_data['Exterior1st'].mode()[0], inplace=True)\n",
    "all_data['Exterior2nd'].fillna(all_data['Exterior2nd'].mode()[0], inplace=True)\n",
    "# KitchenQual（廚房質量）\n",
    "all_data['KitchenQual'].fillna(all_data['KitchenQual'].mode()[0], inplace=True)\n",
    "# Functional（功能性）\n",
    "all_data['Functional'].fillna(all_data['Functional'].mode()[0], inplace=True)\n",
    "# SaleType（銷售類型）\n",
    "all_data['SaleType'].fillna(all_data['SaleType'].mode()[0], inplace=True)\n",
    "\n",
    "# 地下室相關的特徵可能表示沒有地下室，可以填補為 \"None\"\n",
    "all_data['BsmtFinSF1'].fillna(all_data['BsmtFinSF1'].median(), inplace=True)\n",
    "all_data['BsmtFinSF2'].fillna(all_data['BsmtFinSF2'].median(), inplace=True)\n",
    "all_data['BsmtUnfSF'].fillna(all_data['BsmtUnfSF'].median(), inplace=True)\n",
    "all_data['TotalBsmtSF'].fillna(all_data['TotalBsmtSF'].median(), inplace=True)\n",
    "all_data['BsmtFullBath'].fillna(all_data['BsmtFullBath'].median(), inplace=True)\n",
    "all_data['BsmtHalfBath'].fillna(all_data['BsmtHalfBath'].median(), inplace=True)\n",
    "# GarageCars、GarageArea（車庫車位數與面積）\n",
    "all_data['GarageCars'].fillna(all_data['GarageCars'].median(), inplace=True)\n",
    "all_data['GarageArea'].fillna(all_data['GarageArea'].median(), inplace=True)"
   ]
  },
  {
   "cell_type": "code",
   "execution_count": 6,
   "id": "59733c2a-773f-4561-a768-4943e226385f",
   "metadata": {},
   "outputs": [
    {
     "name": "stdout",
     "output_type": "stream",
     "text": [
      "有 1 個特徵有缺失值\n"
     ]
    },
    {
     "data": {
      "text/plain": [
       "SalePrice    1459\n",
       "dtype: int64"
      ]
     },
     "execution_count": 6,
     "metadata": {},
     "output_type": "execute_result"
    }
   ],
   "source": [
    "# 檢查缺失值數量\n",
    "missing_values = all_data.isnull().sum()\n",
    "missing_features = missing_values[missing_values > 0]\n",
    "\n",
    "print(f'有 {len(missing_features)} 個特徵有缺失值')\n",
    "# 列出所有缺失值的特徵\n",
    "missing_features"
   ]
  },
  {
   "cell_type": "markdown",
   "id": "81bbfaf0-0865-46b4-ae79-87ea1288869c",
   "metadata": {},
   "source": [
    "## Label Encoding"
   ]
  },
  {
   "cell_type": "code",
   "execution_count": 7,
   "id": "7b6fbb79-75cb-4ac2-8984-db553fce5b21",
   "metadata": {},
   "outputs": [],
   "source": [
    "# 質量等級轉換成連續數值\n",
    "condition_dict = {'None': 0, 'Po': 1, 'Fa': 2, 'TA': 3, 'Gd': 4, 'Ex': 5}\n",
    "\n",
    "for column in [\n",
    "        'ExterQual', 'ExterCond', 'BsmtQual', 'BsmtCond', 'HeatingQC',\n",
    "        'KitchenQual', 'FireplaceQu', 'GarageQual', 'GarageCond', 'PoolQC'\n",
    "]:\n",
    "\n",
    "    all_data[column] = all_data[column].replace(condition_dict)\n",
    "\n",
    "# 土地形狀等級\n",
    "lot_shape_dict = {'IR3': 0, 'IR2': 1, 'IR1': 2, 'Reg': 3}\n",
    "all_data['LotShape'] = all_data['LotShape'].replace(lot_shape_dict)\n",
    "\n",
    "# 磚石飾面等級\n",
    "all_data['MasVnrType'] = all_data['MasVnrType'].replace({\n",
    "    'None': 0,\n",
    "    'BrkCmn': 0,\n",
    "    'BrkFace': 1,\n",
    "    'Stone': 2\n",
    "})\n",
    "\n",
    "# 車庫內部裝修等級\n",
    "all_data['GarageFinish'] = all_data['GarageFinish'].replace({'None': 0,\n",
    "                                                             'Unf': 1,\n",
    "                                                             'RFn': 2,\n",
    "                                                             'Fin': 3})\n",
    "# 地下室窗戶等級\n",
    "all_data['BsmtExposure'] = all_data['BsmtExposure'].replace({'None': 0,\n",
    "                                                             'No': 1,\n",
    "                                                             'Mn': 2,\n",
    "                                                             'Av': 3,\n",
    "                                                             'Gd': 4})\n",
    "# 地下室完工類型等級\n",
    "for col in ['BsmtFinType1', 'BsmtFinType2']:\n",
    "    all_data[col] = all_data[col].replace({'None': 0,\n",
    "                                           'Unf': 1,\n",
    "                                           'LwQ': 2,\n",
    "                                           'Rec': 3,\n",
    "                                           'BLQ': 4,\n",
    "                                           'ALQ': 5,\n",
    "                                           'GLQ': 6})\n",
    "\n",
    "# 功能性等級\n",
    "all_data['Functional'] = all_data['Functional'].replace({'Sal': 0,\n",
    "                                                         'Sev': 1,\n",
    "                                                         'Maj2': 2,\n",
    "                                                         'Maj1': 3,\n",
    "                                                         'Mod': 4,\n",
    "                                                         'Min2': 5,\n",
    "                                                         'Min1': 6,'Typ': 7})\n",
    "\n",
    "# 地勢坡度\n",
    "all_data['LandSlope'] = all_data['LandSlope'].replace({'Sev': 0,\n",
    "                                                       'Mod': 1,\n",
    "                                                       'Gtl': 2})\n",
    "\n",
    "# 車道鋪設等級\n",
    "all_data['PavedDrive'] = all_data['PavedDrive'].replace({'N': 0,\n",
    "                                                         'P': 1,\n",
    "                                                         'Y': 2})\n",
    "# 中央空調\n",
    "all_data['CentralAir'] = all_data['CentralAir'].map({'N': 0, 'Y': 1})\n",
    "# 街道鋪設類型等級\n",
    "all_data['Street'] = all_data['Street'].map({'Grvl': 0, 'Pave': 1})"
   ]
  },
  {
   "cell_type": "markdown",
   "id": "8e271822-8f84-406e-8009-a1fe4c959193",
   "metadata": {},
   "source": [
    "## 處理異常值"
   ]
  },
  {
   "cell_type": "code",
   "execution_count": 8,
   "id": "f6f20fb3-c8db-4963-8710-90b2bbae695a",
   "metadata": {},
   "outputs": [],
   "source": [
    "def handle_outliers(df, columns, factor=1.5):\n",
    "    for col in columns:\n",
    "        Q1 = df[col].quantile(0.25)\n",
    "        Q3 = df[col].quantile(0.75)\n",
    "        IQR = Q3 - Q1\n",
    "        lower_bound = Q1 - factor * IQR\n",
    "        upper_bound = Q3 + factor * IQR\n",
    "        # 限制異常值到合理範圍內\n",
    "        df[col] = df[col].clip(lower_bound, upper_bound)\n",
    "    return df\n",
    "\n",
    "# 處理異常值\n",
    "numeric_columns = all_data.select_dtypes(include=[np.number]).columns\n",
    "all_data = handle_outliers(all_data, numeric_columns)"
   ]
  },
  {
   "cell_type": "markdown",
   "id": "6b903b68-5dbf-4161-b826-a35b5e392279",
   "metadata": {},
   "source": [
    "## 特徵工程"
   ]
  },
  {
   "cell_type": "code",
   "execution_count": 9,
   "id": "f10646fb-51c8-41a3-8b90-559ac240407d",
   "metadata": {},
   "outputs": [],
   "source": [
    "# 計算總浴室數量\n",
    "all_data['TotalBath'] = all_data['FullBath'] + all_data['BsmtFullBath'] + 0.5 * all_data['HalfBath'] + 0.5 * all_data['BsmtHalfBath']\n",
    "\n",
    "# 計算不同街區的房價分級\n",
    "def label_neighborhoods(row):\n",
    "    if row in ['StoneBr', 'NridgHt', 'NoRidge']:\n",
    "        return 3\n",
    "    if row in [\n",
    "            'Timber', 'Somerst', 'Veenker', 'Crawfor', 'CollgCr', 'ClearCr',\n",
    "            'Blmngtn', 'NWAmes', 'Gilbert', 'SawyerW'\n",
    "    ]:\n",
    "        return 2\n",
    "    elif row in ['MeadowV', 'IDOTRR', 'BrDale']:\n",
    "        return 0\n",
    "    else:\n",
    "        return 1\n",
    "all_data['Neigh_Rich'] = all_data['Neighborhood'].apply(lambda row: label_neighborhoods(row))\n",
    "\n",
    "# 計算總面積\n",
    "all_data['TotalSqFeet'] = all_data['GrLivArea'] + all_data['TotalBsmtSF']"
   ]
  },
  {
   "cell_type": "markdown",
   "id": "a095849d-81c6-4d58-b73f-6c32175d957c",
   "metadata": {},
   "source": [
    "## OneHot Encoding"
   ]
  },
  {
   "cell_type": "code",
   "execution_count": 10,
   "id": "be149822-e073-47d4-973b-1418c5da534b",
   "metadata": {},
   "outputs": [
    {
     "name": "stdout",
     "output_type": "stream",
     "text": [
      "OneHot encoding completed!\n",
      "\n",
      "Shape before:  (2919, 84)\n",
      "Shape after:  (2919, 208)\n"
     ]
    }
   ],
   "source": [
    "all_data_before = all_data.copy()\n",
    "\n",
    "categorical = all_data.select_dtypes(include=['object']).columns\n",
    "all_data = pd.get_dummies(all_data, columns=categorical, drop_first=True)\n",
    "\n",
    "print('OneHot encoding completed!\\n')\n",
    "print('Shape before: ', all_data_before.shape)\n",
    "print('Shape after: ', all_data.shape)"
   ]
  },
  {
   "cell_type": "markdown",
   "id": "515762f5-9a9c-479b-a7b2-5fe3050076db",
   "metadata": {},
   "source": [
    "## 資料拆分"
   ]
  },
  {
   "cell_type": "markdown",
   "id": "d04588f4-a405-4911-a9f2-1318ae2cb840",
   "metadata": {},
   "source": [
    "合併資料集拆分回原訓練集和原測試集\n",
    "\n",
    "根據SalePrice是否為空來拆分數據：\n",
    "- 訓練集(train_df)包含有已知SalePrice的房屋樣本。\n",
    "- 測試集(test_df)包含SalePrice缺失的樣本，用已完成訓練模型來預測。"
   ]
  },
  {
   "cell_type": "code",
   "execution_count": 11,
   "id": "04875ba0-d3d6-419d-ab3d-fd6d8725b3d5",
   "metadata": {},
   "outputs": [],
   "source": [
    "idx = all_data['SalePrice'].notnull().sum()\n",
    "\n",
    "# Train Set\n",
    "train_df = all_data[:idx]\n",
    "X_train_data = train_df.drop(columns=['SalePrice'])\n",
    "y_train_data = np.log1p(train_df['SalePrice'])\n",
    "\n",
    "# Test Set\n",
    "test_df = all_data[idx:]\n",
    "X_test_data = test_df.drop('SalePrice', axis=1)"
   ]
  },
  {
   "cell_type": "markdown",
   "id": "e020a235-2b8a-4be8-85dc-c5ee92693e68",
   "metadata": {},
   "source": [
    "## Standardization"
   ]
  },
  {
   "cell_type": "code",
   "execution_count": 12,
   "id": "23179672-7c56-4910-a17a-cbf120883270",
   "metadata": {},
   "outputs": [],
   "source": [
    "# 資料標準化\n",
    "scaler = StandardScaler()\n",
    "X_train_data = scaler.fit_transform(X_train_data)\n",
    "X_test_data = scaler.transform(X_test_data)"
   ]
  },
  {
   "cell_type": "markdown",
   "id": "b2dfa88d-3c47-48f2-a34a-78d6574f6af3",
   "metadata": {},
   "source": [
    "## 資料拆分\n",
    "訓練集拆分訓練集和測試集以進行模型訓練"
   ]
  },
  {
   "cell_type": "code",
   "execution_count": 13,
   "id": "5b32388d-3767-409a-89d6-5140d1bbf42d",
   "metadata": {},
   "outputs": [
    {
     "name": "stdout",
     "output_type": "stream",
     "text": [
      "X_train: (1022, 207)\n",
      "y_train: (1022,)\n",
      "=================================\n",
      "X_test: (438, 207)\n",
      "y_test: (438,)\n"
     ]
    }
   ],
   "source": [
    "# 將訓練集拆分為訓練集和測試集\n",
    "X_train, X_test, y_train, y_test = train_test_split(X_train_data, y_train_data, test_size=0.3, random_state=42)\n",
    "\n",
    "# 輸出拆分後的數據集大小\n",
    "print(f'X_train: {X_train.shape}')\n",
    "print(f'y_train: {y_train.shape}')\n",
    "print('='*33)\n",
    "print(f'X_test: {X_test.shape}')\n",
    "print(f'y_test: {y_test.shape}')"
   ]
  },
  {
   "cell_type": "markdown",
   "id": "654fa7fa-4e40-4723-82e7-aa344cb5f124",
   "metadata": {},
   "source": [
    "# 訓練模型"
   ]
  },
  {
   "cell_type": "code",
   "execution_count": 14,
   "id": "1890c129-1c31-4e4f-8d82-64bdce25ecc3",
   "metadata": {},
   "outputs": [],
   "source": [
    "cv_tuned = {}\n",
    "\n",
    "def Model_Performance(model_name, model):\n",
    "\n",
    "    print('\\n',model_name)\n",
    "    print('='*33)\n",
    "    print('Val RMSE: ', str(np.round(np.sqrt(-model.best_score_), 3)))\n",
    "    print('Best Parameters: ', str(model.best_params_))\n",
    "\n",
    "    arg_min = np.argmin(model.cv_results_['rank_test_score'])\n",
    "    scores_list = []\n",
    "    for i in [\n",
    "            'split0_test_score', 'split1_test_score', 'split2_test_score',\n",
    "            'split3_test_score', 'split4_test_score'\n",
    "    ]:\n",
    "        scores_list.append(np.sqrt(-model.cv_results_[i][arg_min]))\n",
    "\n",
    "    cv_tuned[model_name] = scores_list"
   ]
  },
  {
   "cell_type": "code",
   "execution_count": 15,
   "id": "ada55774-9733-4ff2-8211-d5231ad165cb",
   "metadata": {},
   "outputs": [
    {
     "name": "stdout",
     "output_type": "stream",
     "text": [
      "Fitting 5 folds for each of 288 candidates, totalling 1440 fits\n",
      "\n",
      " SVR\n",
      "=================================\n",
      "Val RMSE:  0.168\n",
      "Best Parameters:  {'C': 1, 'coef0': 0, 'degree': 2, 'epsilon': 0.01, 'gamma': 'auto', 'kernel': 'rbf'}\n"
     ]
    }
   ],
   "source": [
    "svr = SVR()\n",
    "\n",
    "param_grid = {\n",
    "    'kernel': ['rbf'],\n",
    "    'degree': [2, 3, 4],\n",
    "    'gamma': ['scale', 'auto'],\n",
    "    'coef0': [0, 1, 10],\n",
    "    'C': [0.001, 0.1, 1, 10],\n",
    "    'epsilon': [0.001, 0.01, 0.1, 1]\n",
    "}\n",
    "\n",
    "svr_grid = GridSearchCV(svr,\n",
    "                        param_grid=param_grid,\n",
    "                        cv=5,\n",
    "                        scoring='neg_mean_squared_error',\n",
    "                        verbose=True,\n",
    "                        n_jobs=-1)\n",
    "\n",
    "best_grid_svr = svr_grid.fit(X_train, y_train)\n",
    "\n",
    "Model_Performance('SVR', best_grid_svr)"
   ]
  },
  {
   "cell_type": "markdown",
   "id": "2a654196-3397-4ff4-aa41-68f4ea2c6923",
   "metadata": {},
   "source": [
    "# 評估模型"
   ]
  },
  {
   "cell_type": "markdown",
   "id": "1079f761-9d4f-4049-a5a0-2a7fe9d5b1cf",
   "metadata": {},
   "source": [
    "均方根誤差(Root Mean Squared Error, RMSE)是一個常用的評估回歸模型準確度的指標。\n",
    "\n",
    "$$\n",
    "RMSE = \\sqrt{\\frac{1}{n} \\sum_{i=1}^{n} (y_i - \\hat{y}_i)^2}\n",
    "$$"
   ]
  },
  {
   "cell_type": "code",
   "execution_count": 16,
   "id": "8cd23b4b-2a2a-4d93-9432-977001bd3d59",
   "metadata": {},
   "outputs": [
    {
     "data": {
      "text/html": [
       "<div>\n",
       "<style scoped>\n",
       "    .dataframe tbody tr th:only-of-type {\n",
       "        vertical-align: middle;\n",
       "    }\n",
       "\n",
       "    .dataframe tbody tr th {\n",
       "        vertical-align: top;\n",
       "    }\n",
       "\n",
       "    .dataframe thead th {\n",
       "        text-align: right;\n",
       "    }\n",
       "</style>\n",
       "<table border=\"1\" class=\"dataframe\">\n",
       "  <thead>\n",
       "    <tr style=\"text-align: right;\">\n",
       "      <th></th>\n",
       "      <th>Algorithm</th>\n",
       "      <th>Train CV RMSE</th>\n",
       "      <th>Test RMSE</th>\n",
       "    </tr>\n",
       "  </thead>\n",
       "  <tbody>\n",
       "    <tr>\n",
       "      <th>0</th>\n",
       "      <td>SVR</td>\n",
       "      <td>0.167537</td>\n",
       "      <td>0.171406</td>\n",
       "    </tr>\n",
       "  </tbody>\n",
       "</table>\n",
       "</div>"
      ],
      "text/plain": [
       "  Algorithm  Train CV RMSE  Test RMSE\n",
       "0       SVR       0.167537   0.171406"
      ]
     },
     "execution_count": 16,
     "metadata": {},
     "output_type": "execute_result"
    }
   ],
   "source": [
    "best_estimators = [\n",
    "    best_grid_svr.best_estimator_,\n",
    "]\n",
    "\n",
    "names = ['SVR']\n",
    "\n",
    "cv_tuned_rmse = [np.sqrt(-best_grid_svr.best_score_)] \n",
    "\n",
    "test_scores = []\n",
    "for i, est in enumerate(best_estimators):\n",
    "    est.fit(X_train, y_train)\n",
    "    y_pred = est.predict(X_test)\n",
    "\n",
    "    rmse_test = np.sqrt(mean_squared_error(y_test, y_pred))\n",
    "    test_scores.append(rmse_test)\n",
    "\n",
    "pd.DataFrame({\n",
    "    'Algorithm': names,\n",
    "    'Train CV RMSE': cv_tuned_rmse,\n",
    "    'Test RMSE': test_scores\n",
    "})"
   ]
  },
  {
   "cell_type": "code",
   "execution_count": 17,
   "id": "a44aa84a-4a8c-46b5-b3a3-f2e5283627c0",
   "metadata": {},
   "outputs": [
    {
     "data": {
      "text/html": [
       "<div>\n",
       "<style scoped>\n",
       "    .dataframe tbody tr th:only-of-type {\n",
       "        vertical-align: middle;\n",
       "    }\n",
       "\n",
       "    .dataframe tbody tr th {\n",
       "        vertical-align: top;\n",
       "    }\n",
       "\n",
       "    .dataframe thead th {\n",
       "        text-align: right;\n",
       "    }\n",
       "</style>\n",
       "<table border=\"1\" class=\"dataframe\">\n",
       "  <thead>\n",
       "    <tr style=\"text-align: right;\">\n",
       "      <th></th>\n",
       "      <th>Algorithm</th>\n",
       "      <th>Test RMSE</th>\n",
       "    </tr>\n",
       "  </thead>\n",
       "  <tbody>\n",
       "    <tr>\n",
       "      <th>0</th>\n",
       "      <td>SVR</td>\n",
       "      <td>27016.6</td>\n",
       "    </tr>\n",
       "  </tbody>\n",
       "</table>\n",
       "</div>"
      ],
      "text/plain": [
       "  Algorithm  Test RMSE\n",
       "0       SVR    27016.6"
      ]
     },
     "execution_count": 17,
     "metadata": {},
     "output_type": "execute_result"
    }
   ],
   "source": [
    "test_scores = []\n",
    "for i, est in enumerate(best_estimators):\n",
    "    est.fit(X_train, y_train)\n",
    "    y_pred = est.predict(X_test)\n",
    "    \n",
    "    # 計算RMSE，將對數變換後的預測值轉換回原始房價，然後計算誤差\n",
    "    rmse_test = np.sqrt(mean_squared_error(np.expm1(y_test), np.expm1(y_pred)))\n",
    "    test_scores.append(np.round(rmse_test, 1))\n",
    "\n",
    "pd.DataFrame({'Algorithm': names, 'Test RMSE': test_scores})"
   ]
  },
  {
   "cell_type": "markdown",
   "id": "2569d054-5e88-4b0f-b5e1-ad67eb6f2c97",
   "metadata": {},
   "source": [
    "# 產生提交檔"
   ]
  },
  {
   "cell_type": "markdown",
   "id": "32903c0f-396d-46ae-8300-19e07ec7da44",
   "metadata": {},
   "source": [
    "![kaggle-submission-SVR-20240818](./images/kaggle-submission-SVR-20240818.png)"
   ]
  },
  {
   "cell_type": "code",
   "execution_count": 18,
   "id": "567ee433-04d3-4f7f-ab6c-28491d434ded",
   "metadata": {},
   "outputs": [
    {
     "name": "stdout",
     "output_type": "stream",
     "text": [
      "Submission saved successfully as: ./data/SVR-submission-SVR-2024-08-19.csv\n"
     ]
    }
   ],
   "source": [
    "for i in range(len(best_estimators)):\n",
    "    est = best_estimators[i]\n",
    "    \n",
    "    # 使用完整的訓練集進行模型訓練\n",
    "    est.fit(X_train_data, y_train_data)\n",
    "\n",
    "    # 進行最終測試集上的預測\n",
    "    y_pred = est.predict(X_test_data)\n",
    "    \n",
    "    # SalePrice對數反轉\n",
    "    y_pred_trans = np.expm1(y_pred)\n",
    "    \n",
    "    # 創建提交數據\n",
    "    submission = pd.DataFrame({\n",
    "        'Id': test_data['Id'],\n",
    "        'SalePrice': y_pred_trans\n",
    "    })\n",
    "    \n",
    "    model_name = names[i]\n",
    "    date = datetime.datetime.today().strftime('%Y-%m-%d')\n",
    "    submission_path = f'./data/{model_name}-submission-{model_name}-{date}.csv'\n",
    "    submission.to_csv(submission_path, index=False)\n",
    "    print(f\"Submission saved successfully as: {submission_path}\")"
   ]
  },
  {
   "cell_type": "code",
   "execution_count": null,
   "id": "8e966d92-da09-4b8c-9708-46aca39f68a9",
   "metadata": {},
   "outputs": [],
   "source": []
  }
 ],
 "metadata": {
  "kernelspec": {
   "display_name": "sk10-env",
   "language": "python",
   "name": "sk10-env"
  },
  "language_info": {
   "codemirror_mode": {
    "name": "ipython",
    "version": 3
   },
   "file_extension": ".py",
   "mimetype": "text/x-python",
   "name": "python",
   "nbconvert_exporter": "python",
   "pygments_lexer": "ipython3",
   "version": "3.10.14"
  }
 },
 "nbformat": 4,
 "nbformat_minor": 5
}
