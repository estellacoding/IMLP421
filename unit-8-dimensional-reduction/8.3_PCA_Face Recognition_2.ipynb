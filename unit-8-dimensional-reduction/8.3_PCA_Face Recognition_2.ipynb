{
 "cells": [
  {
   "cell_type": "code",
   "execution_count": 1,
   "metadata": {},
   "outputs": [],
   "source": [
    "import os\n",
    "# 設置環境變數\n",
    "os.environ[\"LOKY_MAX_CPU_COUNT\"] = \"2\""
   ]
  },
  {
   "cell_type": "code",
   "execution_count": 2,
   "metadata": {},
   "outputs": [],
   "source": [
    "import os\n",
    "import numpy as np\n",
    "from skimage import io\n",
    "from sklearn.decomposition import PCA\n",
    "from sklearn.model_selection import KFold\n",
    "from sklearn.neighbors import KNeighborsClassifier\n",
    "\n",
    "# 訓練資料集\n",
    "train_img = io.ImageCollection('./data/*_[1-9].png')\n",
    "test_img = io.ImageCollection('./data/*_10.png')\n",
    "N = len(train_img)\n",
    "\n",
    "# 圖像尺寸\n",
    "w, h = 56, 46\n",
    "\n",
    "# 初始化資料陣列\n",
    "data = np.zeros([N, w * h])\n",
    "eigen_face = np.zeros([N, w, h])"
   ]
  },
  {
   "cell_type": "code",
   "execution_count": 3,
   "metadata": {},
   "outputs": [],
   "source": [
    "# 計算均值臉\n",
    "mean_img = np.mean(train_img, axis=0, dtype=float)\n",
    "mean_img_re = mean_img.reshape(1, w * h)\n",
    "\n",
    "# 將每張訓練圖像轉換成向量並減去均值臉\n",
    "for i in range(N):\n",
    "    data[i] = train_img[i].reshape(1, w * h) - mean_img_re"
   ]
  },
  {
   "cell_type": "code",
   "execution_count": 4,
   "metadata": {},
   "outputs": [],
   "source": [
    "# 執行PCA以獲取特徵臉\n",
    "pca = PCA(n_components=N)\n",
    "pca.fit(data)\n",
    "eigen_re = pca.components_\n",
    "\n",
    "# 創建保存特徵臉的目錄\n",
    "output_dir = './images/pca/'\n",
    "os.makedirs(output_dir, exist_ok=True)\n",
    "\n",
    "# 保存特徵臉圖像\n",
    "for n in range(N):\n",
    "    eigen_face[n] = (eigen_re[n].reshape(w, h) - eigen_re[n].min()) / (eigen_re[n].max() - eigen_re[n].min())\n",
    "    io.imsave(os.path.join(output_dir, str(n + 1) + '.png'), (eigen_face[n] * 255).astype(np.uint8))"
   ]
  },
  {
   "cell_type": "code",
   "execution_count": 5,
   "metadata": {},
   "outputs": [],
   "source": [
    "# 重建圖像\n",
    "# 這裡選擇第一張圖像進行重建\n",
    "img = train_img[0]\n",
    "img0 = img.reshape(1, w * h) - mean_img_re \n",
    "\n",
    "# 使用345個主成分進行PCA重建\n",
    "ipca = PCA(n_components=345).fit(data)\n",
    "comp = ipca.transform(img0)\n",
    "new_re = ipca.inverse_transform(comp) + mean_img_re\n",
    "new = np.reshape(new_re, (w, h))\n",
    "new_n = (new - new.min()) / (new.max() - new.min())\n",
    "\n",
    "# 保存重建的圖像\n",
    "io.imsave('./images/345.png', (new_n * 255).astype(np.uint8))"
   ]
  },
  {
   "cell_type": "code",
   "execution_count": 6,
   "metadata": {},
   "outputs": [
    {
     "name": "stdout",
     "output_type": "stream",
     "text": [
      "MSE =  0.10551581907185724\n"
     ]
    }
   ],
   "source": [
    "# 計算均方誤差(MSE)\n",
    "mse = ((new_re - img.reshape(1, w * h)) ** 2).mean()\n",
    "print(\"MSE = \", mse)"
   ]
  },
  {
   "cell_type": "code",
   "execution_count": 7,
   "metadata": {},
   "outputs": [
    {
     "name": "stdout",
     "output_type": "stream",
     "text": [
      "k = 1, n = 3, accuracy = 0.6917\n",
      "k = 1, n = 50, accuracy = 0.9611\n",
      "k = 1, n = 170, accuracy = 0.9583\n",
      "k = 3, n = 3, accuracy = 0.6056\n",
      "k = 3, n = 50, accuracy = 0.9167\n",
      "k = 3, n = 170, accuracy = 0.8806\n",
      "k = 5, n = 3, accuracy = 0.5111\n",
      "k = 5, n = 50, accuracy = 0.8083\n",
      "k = 5, n = 170, accuracy = 0.7889\n"
     ]
    }
   ],
   "source": [
    "# KNN驗證\n",
    "# 標籤 (1-40對應不同的人臉)\n",
    "label = np.repeat(np.arange(1, 41), 9)\n",
    "\n",
    "def KNNclassify(k, n):\n",
    "    \"\"\"對訓練資料進行 KNN 分類，使用 n 個主成分和 k 個鄰居\"\"\"\n",
    "    X = np.matmul(data, eigen_re[:n].T)\n",
    "    \n",
    "    kf = KFold(n_splits=3, shuffle=True)\n",
    "    accuracy = 0\n",
    "    \n",
    "    for train_index, val_index in kf.split(X):\n",
    "        X_train, X_val = X[train_index], X[val_index]\n",
    "        y_train, y_val = label[train_index], label[val_index]\n",
    "    \n",
    "        knn = KNeighborsClassifier(n_neighbors=k)\n",
    "        knn.fit(X_train, y_train)\n",
    "        val_accuracy = knn.score(X_val, y_val)\n",
    "    \n",
    "        accuracy += val_accuracy\n",
    "    \n",
    "    return accuracy / 3\n",
    "\n",
    "# 測試不同k和n的組合的分類效果\n",
    "for k in [1, 3, 5]:\n",
    "    for n in [3, 50, 170]:\n",
    "        print(f\"k = {k}, n = {n}, accuracy = {KNNclassify(k, n):.4f}\")"
   ]
  },
  {
   "cell_type": "code",
   "execution_count": 8,
   "metadata": {},
   "outputs": [
    {
     "name": "stdout",
     "output_type": "stream",
     "text": [
      "Test accuracy with k=1 and n=140: 0.9500\n"
     ]
    }
   ],
   "source": [
    "# KNN測試\n",
    "# 生成訓練集和測試集標籤\n",
    "train_label = np.repeat(np.arange(1, 41), 9)\n",
    "test_label = np.arange(1, 41)\n",
    "\n",
    "# 初始化訓練和測試資料矩陣\n",
    "train_data = np.zeros([360, w * h])\n",
    "test_data = np.zeros([40, w * h])\n",
    "\n",
    "# 將訓練集和測試集圖片轉換為向量並減去均值臉\n",
    "for i in range(len(train_img)):\n",
    "    train_data[i] = train_img[i].reshape(1, w * h) - mean_img_re\n",
    "\n",
    "for i in range(len(test_img)):\n",
    "    test_data[i] = test_img[i].reshape(1, w * h) - mean_img_re\n",
    "\n",
    "def KNNClassify(k, n):\n",
    "    \"\"\"對測試資料進行 KNN 分類，使用 n 個主成分和 k 個鄰居\"\"\"\n",
    "    X_train = np.matmul(train_data, eigen_re[:n].T)\n",
    "    X_test = np.matmul(test_data, eigen_re[:n].T)\n",
    "    \n",
    "    knn = KNeighborsClassifier(n_neighbors=k)\n",
    "    knn.fit(X_train, train_label)\n",
    "    test_accuracy = knn.score(X_test, test_label)\n",
    "    \n",
    "    return test_accuracy\n",
    "\n",
    "# 測試KNN模型的效果\n",
    "print(f\"Test accuracy with k=1 and n=140: {KNNClassify(1, 140):.4f}\")"
   ]
  },
  {
   "cell_type": "code",
   "execution_count": null,
   "metadata": {},
   "outputs": [],
   "source": []
  },
  {
   "cell_type": "code",
   "execution_count": null,
   "metadata": {},
   "outputs": [],
   "source": []
  },
  {
   "cell_type": "code",
   "execution_count": null,
   "metadata": {},
   "outputs": [],
   "source": []
  }
 ],
 "metadata": {
  "kernelspec": {
   "display_name": "sk-env",
   "language": "python",
   "name": "sk-env"
  },
  "language_info": {
   "codemirror_mode": {
    "name": "ipython",
    "version": 3
   },
   "file_extension": ".py",
   "mimetype": "text/x-python",
   "name": "python",
   "nbconvert_exporter": "python",
   "pygments_lexer": "ipython3",
   "version": "3.12.4"
  }
 },
 "nbformat": 4,
 "nbformat_minor": 4
}
