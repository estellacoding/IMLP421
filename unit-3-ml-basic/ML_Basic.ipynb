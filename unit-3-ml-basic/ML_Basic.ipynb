{
 "cells": [
  {
   "cell_type": "markdown",
   "id": "068fa65e-e76b-431d-81d0-327e0017e9ef",
   "metadata": {},
   "source": [
    "# 分群問題的常見例子\n",
    "- 哪些消費者對農產品有相似的品味？\n",
    "- 哪些觀眾喜歡同一類電影？\n",
    "- 哪些型號的印表機有相似的故障？\n",
    "- 這間變電所在每週的哪些天有相似的電力需求？\n",
    "- 用什麼方法可以自然地將這些文件分成五類？"
   ]
  },
  {
   "cell_type": "markdown",
   "id": "44b0211b-e7e5-4423-a36e-5e88090f3647",
   "metadata": {},
   "source": [
    "# 強化學習問題的常見例子\n",
    "- 我該把廣告放在網頁何處，才能讓讀者最有機會點到它？\n",
    "- 我該把溫度調高或調低一點，還是維持現狀？\n",
    "- 我該再掃一次客廳還是繼續充電？\n",
    "- 我現在該買入多少股？\n",
    "- 看到黃燈時，我該保持當前速度、煞車還是加速？"
   ]
  },
  {
   "cell_type": "markdown",
   "id": "1ddd5cf9-5404-48de-bfa4-ef98b8ea1ac1",
   "metadata": {},
   "source": [
    "# 資料集\n",
    "- [加州大學](https://archive.ics.uci.edu/datasets)\n",
    "- [KD Nuggets](https://www.kdnuggets.com/datasets/index.html)\n",
    "- [Kaggle](https://www.kaggle.com/datasets)"
   ]
  },
  {
   "cell_type": "code",
   "execution_count": null,
   "id": "5f6206a6-0e3b-407a-bc3b-a0dd80a9c136",
   "metadata": {},
   "outputs": [],
   "source": []
  }
 ],
 "metadata": {
  "kernelspec": {
   "display_name": "py-env",
   "language": "python",
   "name": "py-env"
  },
  "language_info": {
   "codemirror_mode": {
    "name": "ipython",
    "version": 3
   },
   "file_extension": ".py",
   "mimetype": "text/x-python",
   "name": "python",
   "nbconvert_exporter": "python",
   "pygments_lexer": "ipython3",
   "version": "3.12.4"
  }
 },
 "nbformat": 4,
 "nbformat_minor": 5
}
